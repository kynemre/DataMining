{
  "nbformat": 4,
  "nbformat_minor": 0,
  "metadata": {
    "colab": {
      "name": "05 - İşten İlk Kimler Ayrılacak?.ipynb",
      "provenance": [],
      "collapsed_sections": [],
      "authorship_tag": "ABX9TyO0hAJvtk5WJCPYZ21nT5B0",
      "include_colab_link": true
    },
    "kernelspec": {
      "name": "python3",
      "display_name": "Python 3"
    },
    "language_info": {
      "name": "python"
    }
  },
  "cells": [
    {
      "cell_type": "markdown",
      "metadata": {
        "id": "view-in-github",
        "colab_type": "text"
      },
      "source": [
        "<a href=\"https://colab.research.google.com/github/kynemre/DataMining/blob/main/05_%C4%B0%C5%9Ften_%C4%B0lk_Kimler_Ayr%C4%B1lacak%3F.ipynb\" target=\"_parent\"><img src=\"https://colab.research.google.com/assets/colab-badge.svg\" alt=\"Open In Colab\"/></a>"
      ]
    },
    {
      "cell_type": "markdown",
      "metadata": {
        "id": "z_RUF0eBPuYV"
      },
      "source": [
        "# İşten İlk Kimler Ayrılacak?\n",
        "\n",
        "Bu uygulamada kullanacağımız veri seti bir şirkete ait insan kaynakları departmanı tarafından toplanmış 14999 kişiye ait verileri içerir. (HR.csv)\n",
        "Veri setimizde:\n",
        "* Çalışan memnuniyet oranı, (satisfaction_level) (0-1 aralığında)\n",
        "* Son değerlendirme (last_evaluation) (0-1 aralığında)\n",
        "* Proje sayısı (number_project)\n",
        "* Ortalama aylık çalışma süresi (average_monthly_hours)\n",
        "* Şirkette geçirilen yıl (time_spent_company)\n",
        "* İş kazası geçirilip geçirilmediği (work_accident)*\n",
        "* Son 5 yılda promosyon alıp almadığı (promotion_last_5_years)\n",
        "* Departman(sales)\n",
        "* Maaş (salary) - (low, medium or high)\n",
        "* Çalışanın işten ayrılıp ayrılmadığı (left)\n",
        "\n",
        "Şeklinde tanımlanmış attribute lar bulunmaktadır. Çalışanın işten ayrılıp ayrılmadığı (left) bilgisi etiket değeri olarak alınacak ve eğitim veri seti kullanılarak, test veri seti içerisinde yer alan çalışanların işten ayrılıp ayrılmadığı tahmin edilecektir."
      ]
    },
    {
      "cell_type": "markdown",
      "metadata": {
        "id": "MOtF9nXaQM4x"
      },
      "source": [
        "## Veri Okuma ve Düzenleme"
      ]
    },
    {
      "cell_type": "code",
      "metadata": {
        "id": "dAU_YML0MOe9"
      },
      "source": [
        "import pandas as pd\n",
        "import numpy as np\n",
        "import matplotlib.pyplot as plt\n",
        "import seaborn as sns\n",
        "from tqdm import tqdm"
      ],
      "execution_count": null,
      "outputs": []
    },
    {
      "cell_type": "code",
      "metadata": {
        "colab": {
          "base_uri": "https://localhost:8080/",
          "height": 111
        },
        "id": "aTZ5F6FyMngV",
        "outputId": "3ccd6f04-aae7-4a5f-c8d6-74c3fbd3ab90"
      },
      "source": [
        "adress = r'https://raw.githubusercontent.com/kynemre/DataMining/main/data/HR.csv'\n",
        "data = pd.read_csv(adress)\n",
        "data.head(2)"
      ],
      "execution_count": null,
      "outputs": [
        {
          "output_type": "execute_result",
          "data": {
            "text/html": [
              "<div>\n",
              "<style scoped>\n",
              "    .dataframe tbody tr th:only-of-type {\n",
              "        vertical-align: middle;\n",
              "    }\n",
              "\n",
              "    .dataframe tbody tr th {\n",
              "        vertical-align: top;\n",
              "    }\n",
              "\n",
              "    .dataframe thead th {\n",
              "        text-align: right;\n",
              "    }\n",
              "</style>\n",
              "<table border=\"1\" class=\"dataframe\">\n",
              "  <thead>\n",
              "    <tr style=\"text-align: right;\">\n",
              "      <th></th>\n",
              "      <th>satisfaction_level</th>\n",
              "      <th>last_evaluation</th>\n",
              "      <th>number_project</th>\n",
              "      <th>average_montly_hours</th>\n",
              "      <th>time_spend_company</th>\n",
              "      <th>Work_accident</th>\n",
              "      <th>left</th>\n",
              "      <th>promotion_last_5years</th>\n",
              "      <th>sales</th>\n",
              "      <th>salary</th>\n",
              "    </tr>\n",
              "  </thead>\n",
              "  <tbody>\n",
              "    <tr>\n",
              "      <th>0</th>\n",
              "      <td>0.38</td>\n",
              "      <td>0.53</td>\n",
              "      <td>2</td>\n",
              "      <td>157</td>\n",
              "      <td>3</td>\n",
              "      <td>0</td>\n",
              "      <td>1</td>\n",
              "      <td>0</td>\n",
              "      <td>sales</td>\n",
              "      <td>low</td>\n",
              "    </tr>\n",
              "    <tr>\n",
              "      <th>1</th>\n",
              "      <td>0.80</td>\n",
              "      <td>0.86</td>\n",
              "      <td>5</td>\n",
              "      <td>262</td>\n",
              "      <td>6</td>\n",
              "      <td>0</td>\n",
              "      <td>1</td>\n",
              "      <td>0</td>\n",
              "      <td>sales</td>\n",
              "      <td>medium</td>\n",
              "    </tr>\n",
              "  </tbody>\n",
              "</table>\n",
              "</div>"
            ],
            "text/plain": [
              "   satisfaction_level  last_evaluation  ...  sales  salary\n",
              "0                0.38             0.53  ...  sales     low\n",
              "1                0.80             0.86  ...  sales  medium\n",
              "\n",
              "[2 rows x 10 columns]"
            ]
          },
          "metadata": {
            "tags": []
          },
          "execution_count": 2
        }
      ]
    },
    {
      "cell_type": "code",
      "metadata": {
        "colab": {
          "base_uri": "https://localhost:8080/",
          "height": 111
        },
        "id": "ThfQjogCrpu_",
        "outputId": "304812cd-f178-4f15-fceb-a4b45b51d07c"
      },
      "source": [
        "col_list = list(data.columns)\n",
        "col_list.remove('left')\n",
        "col_list+=['left']\n",
        "data = data[col_list]\n",
        "data.head(2)"
      ],
      "execution_count": null,
      "outputs": [
        {
          "output_type": "execute_result",
          "data": {
            "text/html": [
              "<div>\n",
              "<style scoped>\n",
              "    .dataframe tbody tr th:only-of-type {\n",
              "        vertical-align: middle;\n",
              "    }\n",
              "\n",
              "    .dataframe tbody tr th {\n",
              "        vertical-align: top;\n",
              "    }\n",
              "\n",
              "    .dataframe thead th {\n",
              "        text-align: right;\n",
              "    }\n",
              "</style>\n",
              "<table border=\"1\" class=\"dataframe\">\n",
              "  <thead>\n",
              "    <tr style=\"text-align: right;\">\n",
              "      <th></th>\n",
              "      <th>satisfaction_level</th>\n",
              "      <th>last_evaluation</th>\n",
              "      <th>number_project</th>\n",
              "      <th>average_montly_hours</th>\n",
              "      <th>time_spend_company</th>\n",
              "      <th>Work_accident</th>\n",
              "      <th>promotion_last_5years</th>\n",
              "      <th>sales</th>\n",
              "      <th>salary</th>\n",
              "      <th>left</th>\n",
              "    </tr>\n",
              "  </thead>\n",
              "  <tbody>\n",
              "    <tr>\n",
              "      <th>0</th>\n",
              "      <td>0.38</td>\n",
              "      <td>0.53</td>\n",
              "      <td>2</td>\n",
              "      <td>157</td>\n",
              "      <td>3</td>\n",
              "      <td>0</td>\n",
              "      <td>0</td>\n",
              "      <td>sales</td>\n",
              "      <td>low</td>\n",
              "      <td>1</td>\n",
              "    </tr>\n",
              "    <tr>\n",
              "      <th>1</th>\n",
              "      <td>0.80</td>\n",
              "      <td>0.86</td>\n",
              "      <td>5</td>\n",
              "      <td>262</td>\n",
              "      <td>6</td>\n",
              "      <td>0</td>\n",
              "      <td>0</td>\n",
              "      <td>sales</td>\n",
              "      <td>medium</td>\n",
              "      <td>1</td>\n",
              "    </tr>\n",
              "  </tbody>\n",
              "</table>\n",
              "</div>"
            ],
            "text/plain": [
              "   satisfaction_level  last_evaluation  number_project  ...  sales  salary  left\n",
              "0                0.38             0.53               2  ...  sales     low     1\n",
              "1                0.80             0.86               5  ...  sales  medium     1\n",
              "\n",
              "[2 rows x 10 columns]"
            ]
          },
          "metadata": {
            "tags": []
          },
          "execution_count": 3
        }
      ]
    },
    {
      "cell_type": "code",
      "metadata": {
        "colab": {
          "base_uri": "https://localhost:8080/"
        },
        "id": "bHSocRmWM4PL",
        "outputId": "1c83df8d-d310-4818-dd38-33558f4cee5c"
      },
      "source": [
        "data.isna().any().any()"
      ],
      "execution_count": null,
      "outputs": [
        {
          "output_type": "execute_result",
          "data": {
            "text/plain": [
              "False"
            ]
          },
          "metadata": {
            "tags": []
          },
          "execution_count": 4
        }
      ]
    },
    {
      "cell_type": "code",
      "metadata": {
        "id": "SJxPczBMVJbO"
      },
      "source": [
        "salary_dict = dict(enumerate(data['salary'].unique()))\n",
        "sales_dict = dict(enumerate(data['sales'].unique()))"
      ],
      "execution_count": null,
      "outputs": []
    },
    {
      "cell_type": "code",
      "metadata": {
        "id": "o082Y-LvNhnE"
      },
      "source": [
        "for i,key in salary_dict.items():\n",
        "    data['salary'] = data['salary'].apply(lambda x:x.replace(key,str(i)))\n",
        "data['salary'] = data['salary'].astype(int)"
      ],
      "execution_count": null,
      "outputs": []
    },
    {
      "cell_type": "code",
      "metadata": {
        "id": "1Vn0cVuATxjQ"
      },
      "source": [
        "for i,key in sales_dict.items():\n",
        "    data['sales'] = data['sales'].apply(lambda x:x.replace(key,str(i)))\n",
        "data['sales'] = data['sales'].astype(int)"
      ],
      "execution_count": null,
      "outputs": []
    },
    {
      "cell_type": "code",
      "metadata": {
        "colab": {
          "base_uri": "https://localhost:8080/",
          "height": 317
        },
        "id": "FG4ooxplqP3f",
        "outputId": "fc33390c-1689-436d-d418-67a39b13e33d"
      },
      "source": [
        "data.describe().round(2)"
      ],
      "execution_count": null,
      "outputs": [
        {
          "output_type": "execute_result",
          "data": {
            "text/html": [
              "<div>\n",
              "<style scoped>\n",
              "    .dataframe tbody tr th:only-of-type {\n",
              "        vertical-align: middle;\n",
              "    }\n",
              "\n",
              "    .dataframe tbody tr th {\n",
              "        vertical-align: top;\n",
              "    }\n",
              "\n",
              "    .dataframe thead th {\n",
              "        text-align: right;\n",
              "    }\n",
              "</style>\n",
              "<table border=\"1\" class=\"dataframe\">\n",
              "  <thead>\n",
              "    <tr style=\"text-align: right;\">\n",
              "      <th></th>\n",
              "      <th>satisfaction_level</th>\n",
              "      <th>last_evaluation</th>\n",
              "      <th>number_project</th>\n",
              "      <th>average_montly_hours</th>\n",
              "      <th>time_spend_company</th>\n",
              "      <th>Work_accident</th>\n",
              "      <th>promotion_last_5years</th>\n",
              "      <th>sales</th>\n",
              "      <th>salary</th>\n",
              "      <th>left</th>\n",
              "    </tr>\n",
              "  </thead>\n",
              "  <tbody>\n",
              "    <tr>\n",
              "      <th>count</th>\n",
              "      <td>14999.00</td>\n",
              "      <td>14999.00</td>\n",
              "      <td>14999.00</td>\n",
              "      <td>14999.00</td>\n",
              "      <td>14999.00</td>\n",
              "      <td>14999.00</td>\n",
              "      <td>14999.00</td>\n",
              "      <td>14999.00</td>\n",
              "      <td>14999.00</td>\n",
              "      <td>14999.00</td>\n",
              "    </tr>\n",
              "    <tr>\n",
              "      <th>mean</th>\n",
              "      <td>0.61</td>\n",
              "      <td>0.72</td>\n",
              "      <td>3.80</td>\n",
              "      <td>201.05</td>\n",
              "      <td>3.50</td>\n",
              "      <td>0.14</td>\n",
              "      <td>0.02</td>\n",
              "      <td>3.34</td>\n",
              "      <td>0.59</td>\n",
              "      <td>0.24</td>\n",
              "    </tr>\n",
              "    <tr>\n",
              "      <th>std</th>\n",
              "      <td>0.25</td>\n",
              "      <td>0.17</td>\n",
              "      <td>1.23</td>\n",
              "      <td>49.94</td>\n",
              "      <td>1.46</td>\n",
              "      <td>0.35</td>\n",
              "      <td>0.14</td>\n",
              "      <td>2.82</td>\n",
              "      <td>0.64</td>\n",
              "      <td>0.43</td>\n",
              "    </tr>\n",
              "    <tr>\n",
              "      <th>min</th>\n",
              "      <td>0.09</td>\n",
              "      <td>0.36</td>\n",
              "      <td>2.00</td>\n",
              "      <td>96.00</td>\n",
              "      <td>2.00</td>\n",
              "      <td>0.00</td>\n",
              "      <td>0.00</td>\n",
              "      <td>0.00</td>\n",
              "      <td>0.00</td>\n",
              "      <td>0.00</td>\n",
              "    </tr>\n",
              "    <tr>\n",
              "      <th>25%</th>\n",
              "      <td>0.44</td>\n",
              "      <td>0.56</td>\n",
              "      <td>3.00</td>\n",
              "      <td>156.00</td>\n",
              "      <td>3.00</td>\n",
              "      <td>0.00</td>\n",
              "      <td>0.00</td>\n",
              "      <td>0.00</td>\n",
              "      <td>0.00</td>\n",
              "      <td>0.00</td>\n",
              "    </tr>\n",
              "    <tr>\n",
              "      <th>50%</th>\n",
              "      <td>0.64</td>\n",
              "      <td>0.72</td>\n",
              "      <td>4.00</td>\n",
              "      <td>200.00</td>\n",
              "      <td>3.00</td>\n",
              "      <td>0.00</td>\n",
              "      <td>0.00</td>\n",
              "      <td>3.00</td>\n",
              "      <td>1.00</td>\n",
              "      <td>0.00</td>\n",
              "    </tr>\n",
              "    <tr>\n",
              "      <th>75%</th>\n",
              "      <td>0.82</td>\n",
              "      <td>0.87</td>\n",
              "      <td>5.00</td>\n",
              "      <td>245.00</td>\n",
              "      <td>4.00</td>\n",
              "      <td>0.00</td>\n",
              "      <td>0.00</td>\n",
              "      <td>6.00</td>\n",
              "      <td>1.00</td>\n",
              "      <td>0.00</td>\n",
              "    </tr>\n",
              "    <tr>\n",
              "      <th>max</th>\n",
              "      <td>1.00</td>\n",
              "      <td>1.00</td>\n",
              "      <td>7.00</td>\n",
              "      <td>310.00</td>\n",
              "      <td>10.00</td>\n",
              "      <td>1.00</td>\n",
              "      <td>1.00</td>\n",
              "      <td>9.00</td>\n",
              "      <td>2.00</td>\n",
              "      <td>1.00</td>\n",
              "    </tr>\n",
              "  </tbody>\n",
              "</table>\n",
              "</div>"
            ],
            "text/plain": [
              "       satisfaction_level  last_evaluation  ...    salary      left\n",
              "count            14999.00         14999.00  ...  14999.00  14999.00\n",
              "mean                 0.61             0.72  ...      0.59      0.24\n",
              "std                  0.25             0.17  ...      0.64      0.43\n",
              "min                  0.09             0.36  ...      0.00      0.00\n",
              "25%                  0.44             0.56  ...      0.00      0.00\n",
              "50%                  0.64             0.72  ...      1.00      0.00\n",
              "75%                  0.82             0.87  ...      1.00      0.00\n",
              "max                  1.00             1.00  ...      2.00      1.00\n",
              "\n",
              "[8 rows x 10 columns]"
            ]
          },
          "metadata": {
            "tags": []
          },
          "execution_count": 8
        }
      ]
    },
    {
      "cell_type": "code",
      "metadata": {
        "colab": {
          "base_uri": "https://localhost:8080/"
        },
        "id": "8bSZrSQuqZsX",
        "outputId": "3d458874-0d84-4ca3-abe0-42fe21edd427"
      },
      "source": [
        "data.info()"
      ],
      "execution_count": null,
      "outputs": [
        {
          "output_type": "stream",
          "text": [
            "<class 'pandas.core.frame.DataFrame'>\n",
            "RangeIndex: 14999 entries, 0 to 14998\n",
            "Data columns (total 10 columns):\n",
            " #   Column                 Non-Null Count  Dtype  \n",
            "---  ------                 --------------  -----  \n",
            " 0   satisfaction_level     14999 non-null  float64\n",
            " 1   last_evaluation        14999 non-null  float64\n",
            " 2   number_project         14999 non-null  int64  \n",
            " 3   average_montly_hours   14999 non-null  int64  \n",
            " 4   time_spend_company     14999 non-null  int64  \n",
            " 5   Work_accident          14999 non-null  int64  \n",
            " 6   promotion_last_5years  14999 non-null  int64  \n",
            " 7   sales                  14999 non-null  int64  \n",
            " 8   salary                 14999 non-null  int64  \n",
            " 9   left                   14999 non-null  int64  \n",
            "dtypes: float64(2), int64(8)\n",
            "memory usage: 1.1 MB\n"
          ],
          "name": "stdout"
        }
      ]
    },
    {
      "cell_type": "code",
      "metadata": {
        "colab": {
          "base_uri": "https://localhost:8080/"
        },
        "id": "3r5qeDjdqaZL",
        "outputId": "57cfd13c-6a5f-46fa-c5ac-27dd55ab5022"
      },
      "source": [
        "print(\"{} adet örnek, {} adet nitelik var.\".format(*data.shape))"
      ],
      "execution_count": null,
      "outputs": [
        {
          "output_type": "stream",
          "text": [
            "14999 adet örnek, 10 adet nitelik var.\n"
          ],
          "name": "stdout"
        }
      ]
    },
    {
      "cell_type": "code",
      "metadata": {
        "id": "dg4U1QUnfKiA"
      },
      "source": [
        "X =data[data.columns[:-1]]\n",
        "y = data['left']"
      ],
      "execution_count": null,
      "outputs": []
    },
    {
      "cell_type": "code",
      "metadata": {
        "colab": {
          "base_uri": "https://localhost:8080/"
        },
        "id": "-KgdJ1LBfbyd",
        "outputId": "d960cefe-a71b-43e2-a43c-8f9e1938dcc5"
      },
      "source": [
        "from sklearn.preprocessing import MinMaxScaler\n",
        "scaler = MinMaxScaler()\n",
        "X = scaler.fit_transform(X)\n",
        "X"
      ],
      "execution_count": null,
      "outputs": [
        {
          "output_type": "execute_result",
          "data": {
            "text/plain": [
              "array([[0.31868132, 0.265625  , 0.        , ..., 0.        , 0.        ,\n",
              "        0.        ],\n",
              "       [0.78021978, 0.78125   , 0.6       , ..., 0.        , 0.        ,\n",
              "        0.5       ],\n",
              "       [0.02197802, 0.8125    , 1.        , ..., 0.        , 0.        ,\n",
              "        0.5       ],\n",
              "       ...,\n",
              "       [0.30769231, 0.265625  , 0.        , ..., 0.        , 0.44444444,\n",
              "        0.        ],\n",
              "       [0.02197802, 0.9375    , 0.8       , ..., 0.        , 0.44444444,\n",
              "        0.        ],\n",
              "       [0.30769231, 0.25      , 0.        , ..., 0.        , 0.44444444,\n",
              "        0.        ]])"
            ]
          },
          "metadata": {
            "tags": []
          },
          "execution_count": 12
        }
      ]
    },
    {
      "cell_type": "code",
      "metadata": {
        "colab": {
          "base_uri": "https://localhost:8080/"
        },
        "id": "LtA2tnqZfdqY",
        "outputId": "89695591-c57e-4f9b-e45a-a4f399895e76"
      },
      "source": [
        "y = y.values.reshape(-1,1)\n",
        "y"
      ],
      "execution_count": null,
      "outputs": [
        {
          "output_type": "execute_result",
          "data": {
            "text/plain": [
              "array([[1],\n",
              "       [1],\n",
              "       [1],\n",
              "       ...,\n",
              "       [1],\n",
              "       [1],\n",
              "       [1]])"
            ]
          },
          "metadata": {
            "tags": []
          },
          "execution_count": 13
        }
      ]
    },
    {
      "cell_type": "code",
      "metadata": {
        "colab": {
          "base_uri": "https://localhost:8080/"
        },
        "id": "O8SCMhCQffL4",
        "outputId": "3632d0ec-1154-47a2-9848-d118387464d5"
      },
      "source": [
        "from sklearn.model_selection import train_test_split\n",
        "X_train, X_test, y_train, y_test = train_test_split(X,\n",
        "                                                    y,\n",
        "                                                    test_size=0.1,\n",
        "                                                    random_state = 42)\n",
        "\n",
        "print('X_train.shape', X_train.shape)\n",
        "print('y_train.shape', y_train.shape)\n",
        "print('X_test.shape', X_test.shape)\n",
        "print('y_test.shape', y_test.shape)"
      ],
      "execution_count": null,
      "outputs": [
        {
          "output_type": "stream",
          "text": [
            "X_train.shape (13499, 9)\n",
            "y_train.shape (13499, 1)\n",
            "X_test.shape (1500, 9)\n",
            "y_test.shape (1500, 1)\n"
          ],
          "name": "stdout"
        }
      ]
    },
    {
      "cell_type": "markdown",
      "metadata": {
        "id": "dOV5E1tgQS3Z"
      },
      "source": [
        "## Yapay Sinir Ağı Modeli"
      ]
    },
    {
      "cell_type": "code",
      "metadata": {
        "id": "mcWdU3UHflwU"
      },
      "source": [
        "from tensorflow.keras import Sequential, optimizers\n",
        "from tensorflow.keras.callbacks import ModelCheckpoint\n",
        "from tensorflow.keras.layers import Activation, BatchNormalization, Dense, Dropout"
      ],
      "execution_count": null,
      "outputs": []
    },
    {
      "cell_type": "code",
      "metadata": {
        "id": "tCzKKbZXfmwQ"
      },
      "source": [
        "model = Sequential()\n",
        "\n",
        "model.add(Dense(units=16, activation='relu', input_dim=X_train.shape[1],))\n",
        "model.add(BatchNormalization())\n",
        "model.add(Dense(units=1, activation='sigmoid'))"
      ],
      "execution_count": null,
      "outputs": []
    },
    {
      "cell_type": "code",
      "metadata": {
        "colab": {
          "base_uri": "https://localhost:8080/"
        },
        "id": "I4WT9_kAfoGf",
        "outputId": "5b1b4a8f-26fb-42c2-cea8-3a017d42777a"
      },
      "source": [
        "opt= optimizers.SGD(learning_rate=0.001, momentum=0.9, nesterov=False)\n",
        "model.compile(loss='binary_crossentropy', optimizer=opt, metrics=['acc'])\n",
        "\n",
        "mc = ModelCheckpoint('checkpoint.h5',save_best_only=True,monitor='val_loss',mode='min')\n",
        "\n",
        "model.fit(X_train, y_train,\n",
        "          batch_size=64,\n",
        "          epochs=30,\n",
        "          validation_split=0.2,\n",
        "          callbacks=[mc])"
      ],
      "execution_count": null,
      "outputs": [
        {
          "output_type": "stream",
          "text": [
            "Epoch 1/30\n",
            "169/169 [==============================] - 1s 2ms/step - loss: 0.6547 - acc: 0.6464 - val_loss: 0.5062 - val_acc: 0.7637\n",
            "Epoch 2/30\n",
            "169/169 [==============================] - 0s 1ms/step - loss: 0.4749 - acc: 0.7801 - val_loss: 0.4504 - val_acc: 0.7978\n",
            "Epoch 3/30\n",
            "169/169 [==============================] - 0s 1ms/step - loss: 0.4303 - acc: 0.7943 - val_loss: 0.4198 - val_acc: 0.7941\n",
            "Epoch 4/30\n",
            "169/169 [==============================] - 0s 1ms/step - loss: 0.4118 - acc: 0.7985 - val_loss: 0.3956 - val_acc: 0.8167\n",
            "Epoch 5/30\n",
            "169/169 [==============================] - 0s 1ms/step - loss: 0.3876 - acc: 0.8344 - val_loss: 0.3782 - val_acc: 0.8389\n",
            "Epoch 6/30\n",
            "169/169 [==============================] - 0s 1ms/step - loss: 0.3639 - acc: 0.8433 - val_loss: 0.3597 - val_acc: 0.8515\n",
            "Epoch 7/30\n",
            "169/169 [==============================] - 0s 1ms/step - loss: 0.3576 - acc: 0.8515 - val_loss: 0.3481 - val_acc: 0.8670\n",
            "Epoch 8/30\n",
            "169/169 [==============================] - 0s 1ms/step - loss: 0.3328 - acc: 0.8718 - val_loss: 0.3263 - val_acc: 0.8767\n",
            "Epoch 9/30\n",
            "169/169 [==============================] - 0s 1ms/step - loss: 0.3128 - acc: 0.8781 - val_loss: 0.3135 - val_acc: 0.8893\n",
            "Epoch 10/30\n",
            "169/169 [==============================] - 0s 1ms/step - loss: 0.3057 - acc: 0.8868 - val_loss: 0.2959 - val_acc: 0.9004\n",
            "Epoch 11/30\n",
            "169/169 [==============================] - 0s 1ms/step - loss: 0.2934 - acc: 0.8919 - val_loss: 0.2881 - val_acc: 0.9096\n",
            "Epoch 12/30\n",
            "169/169 [==============================] - 0s 1ms/step - loss: 0.2824 - acc: 0.8937 - val_loss: 0.2722 - val_acc: 0.9163\n",
            "Epoch 13/30\n",
            "169/169 [==============================] - 0s 1ms/step - loss: 0.2640 - acc: 0.9121 - val_loss: 0.2619 - val_acc: 0.9211\n",
            "Epoch 14/30\n",
            "169/169 [==============================] - 0s 1ms/step - loss: 0.2576 - acc: 0.9135 - val_loss: 0.2568 - val_acc: 0.9211\n",
            "Epoch 15/30\n",
            "169/169 [==============================] - 0s 1ms/step - loss: 0.2497 - acc: 0.9254 - val_loss: 0.2459 - val_acc: 0.9263\n",
            "Epoch 16/30\n",
            "169/169 [==============================] - 0s 1ms/step - loss: 0.2324 - acc: 0.9300 - val_loss: 0.2386 - val_acc: 0.9326\n",
            "Epoch 17/30\n",
            "169/169 [==============================] - 0s 1ms/step - loss: 0.2321 - acc: 0.9304 - val_loss: 0.2315 - val_acc: 0.9348\n",
            "Epoch 18/30\n",
            "169/169 [==============================] - 0s 1ms/step - loss: 0.2353 - acc: 0.9279 - val_loss: 0.2296 - val_acc: 0.9356\n",
            "Epoch 19/30\n",
            "169/169 [==============================] - 0s 1ms/step - loss: 0.2270 - acc: 0.9285 - val_loss: 0.2257 - val_acc: 0.9352\n",
            "Epoch 20/30\n",
            "169/169 [==============================] - 0s 1ms/step - loss: 0.2224 - acc: 0.9337 - val_loss: 0.2197 - val_acc: 0.9363\n",
            "Epoch 21/30\n",
            "169/169 [==============================] - 0s 1ms/step - loss: 0.2157 - acc: 0.9364 - val_loss: 0.2133 - val_acc: 0.9433\n",
            "Epoch 22/30\n",
            "169/169 [==============================] - 0s 1ms/step - loss: 0.2227 - acc: 0.9351 - val_loss: 0.2108 - val_acc: 0.9396\n",
            "Epoch 23/30\n",
            "169/169 [==============================] - 0s 1ms/step - loss: 0.2108 - acc: 0.9401 - val_loss: 0.2110 - val_acc: 0.9437\n",
            "Epoch 24/30\n",
            "169/169 [==============================] - 0s 1ms/step - loss: 0.2064 - acc: 0.9409 - val_loss: 0.2046 - val_acc: 0.9422\n",
            "Epoch 25/30\n",
            "169/169 [==============================] - 0s 1ms/step - loss: 0.2026 - acc: 0.9384 - val_loss: 0.2008 - val_acc: 0.9489\n",
            "Epoch 26/30\n",
            "169/169 [==============================] - 0s 1ms/step - loss: 0.1998 - acc: 0.9425 - val_loss: 0.2000 - val_acc: 0.9478\n",
            "Epoch 27/30\n",
            "169/169 [==============================] - 0s 1ms/step - loss: 0.2014 - acc: 0.9444 - val_loss: 0.2002 - val_acc: 0.9441\n",
            "Epoch 28/30\n",
            "169/169 [==============================] - 0s 1ms/step - loss: 0.2016 - acc: 0.9417 - val_loss: 0.1970 - val_acc: 0.9481\n",
            "Epoch 29/30\n",
            "169/169 [==============================] - 0s 1ms/step - loss: 0.1954 - acc: 0.9432 - val_loss: 0.1954 - val_acc: 0.9519\n",
            "Epoch 30/30\n",
            "169/169 [==============================] - 0s 1ms/step - loss: 0.1932 - acc: 0.9469 - val_loss: 0.1943 - val_acc: 0.9493\n"
          ],
          "name": "stdout"
        },
        {
          "output_type": "execute_result",
          "data": {
            "text/plain": [
              "<tensorflow.python.keras.callbacks.History at 0x7faeb31c6d90>"
            ]
          },
          "metadata": {
            "tags": []
          },
          "execution_count": 51
        }
      ]
    },
    {
      "cell_type": "code",
      "metadata": {
        "colab": {
          "base_uri": "https://localhost:8080/",
          "height": 350
        },
        "id": "c4M5wnOPfsev",
        "outputId": "72d43fbd-8112-4c5f-e5f9-241b3463b384"
      },
      "source": [
        "plt.figure(figsize=(8,5))\n",
        "plt.plot(model.history.history['loss'], label='Training Loss');\n",
        "plt.plot(model.history.history['val_loss'], label='Validation Loss');\n",
        "plt.xlabel('Epoch');\n",
        "plt.ylabel('Loss');\n",
        "plt.title('Model Loss Progress');\n",
        "plt.legend();"
      ],
      "execution_count": null,
      "outputs": [
        {
          "output_type": "display_data",
          "data": {
            "image/png": "[encoded data removed]",
            "text/plain": [
              "<Figure size 576x360 with 1 Axes>"
            ]
          },
          "metadata": {
            "tags": [],
            "needs_background": "light"
          }
        }
      ]
    },
    {
      "cell_type": "code",
      "metadata": {
        "colab": {
          "base_uri": "https://localhost:8080/",
          "height": 367
        },
        "id": "jD9znO_WfuZ7",
        "outputId": "55191944-0a7e-4622-bb1b-c9e58733a81e"
      },
      "source": [
        "plt.figure(figsize=(8,5))\n",
        "plt.plot(model.history.history['acc'], label='Train')\n",
        "plt.plot(model.history.history['val_acc'], label='Test')\n",
        "plt.title('Model Doğruluk Oranı')\n",
        "plt.ylabel('Accuracy')\n",
        "plt.xlabel('Epoch')\n",
        "plt.legend()\n",
        "print(max(model.history.history['val_acc']))"
      ],
      "execution_count": null,
      "outputs": [
        {
          "output_type": "stream",
          "text": [
            "0.9518518447875977\n"
          ],
          "name": "stdout"
        },
        {
          "output_type": "display_data",
          "data": {
            "image/png": "[encoded data removed]",
            "text/plain": [
              "<Figure size 576x360 with 1 Axes>"
            ]
          },
          "metadata": {
            "tags": [],
            "needs_background": "light"
          }
        }
      ]
    },
    {
      "cell_type": "code",
      "metadata": {
        "colab": {
          "base_uri": "https://localhost:8080/",
          "height": 279
        },
        "id": "vKexBj-nfvwk",
        "outputId": "ee821da9-f8ec-44c2-ee8c-e7bd6e93a944"
      },
      "source": [
        "y_pred = model.predict(X_test)\n",
        "plt.plot(y_test, y_pred, '.', color=(.9,.3,.3,.4));\n",
        "plt.ylabel('Model Prediction');\n",
        "plt.xlabel('True Values');"
      ],
      "execution_count": null,
      "outputs": [
        {
          "output_type": "display_data",
          "data": {
            "image/png": "[encoded data removed]",
            "text/plain": [
              "<Figure size 432x288 with 1 Axes>"
            ]
          },
          "metadata": {
            "tags": [],
            "needs_background": "light"
          }
        }
      ]
    },
    {
      "cell_type": "code",
      "metadata": {
        "colab": {
          "base_uri": "https://localhost:8080/"
        },
        "id": "gl9LWbIRfxFt",
        "outputId": "c629fecb-44e9-4290-9c83-fe372950105e"
      },
      "source": [
        "test_acc_NN = round(model.evaluate(X_test, y_test)[1],4);\n",
        "test_acc_NN"
      ],
      "execution_count": null,
      "outputs": [
        {
          "output_type": "stream",
          "text": [
            "47/47 [==============================] - 0s 603us/step - loss: 0.1934 - acc: 0.9447\n"
          ],
          "name": "stdout"
        },
        {
          "output_type": "execute_result",
          "data": {
            "text/plain": [
              "0.9447"
            ]
          },
          "metadata": {
            "tags": []
          },
          "execution_count": 55
        }
      ]
    },
    {
      "cell_type": "markdown",
      "metadata": {
        "id": "VQtEEbjdQZPP"
      },
      "source": [
        "## Karar Ağacı Modeli"
      ]
    },
    {
      "cell_type": "code",
      "metadata": {
        "id": "03QRJ4XqgI2c"
      },
      "source": [
        "from sklearn import tree\n",
        "from sklearn.metrics import accuracy_score"
      ],
      "execution_count": null,
      "outputs": []
    },
    {
      "cell_type": "code",
      "metadata": {
        "id": "hmxaP57igKHD"
      },
      "source": [
        "clf = tree.DecisionTreeClassifier(max_depth=3)\n",
        "clf = clf.fit(X_train, y_train)"
      ],
      "execution_count": null,
      "outputs": []
    },
    {
      "cell_type": "code",
      "metadata": {
        "colab": {
          "base_uri": "https://localhost:8080/"
        },
        "id": "5_CC-7HWgLU2",
        "outputId": "cf864197-21b2-4c03-9a9a-1f45720c8fcc"
      },
      "source": [
        "y_pred_tree = clf.predict(X_test)\n",
        "test_acc_tree = round(accuracy_score(y_test, y_pred_tree, normalize=True),4)\n",
        "test_acc_tree"
      ],
      "execution_count": null,
      "outputs": [
        {
          "output_type": "execute_result",
          "data": {
            "text/plain": [
              "0.9553"
            ]
          },
          "metadata": {
            "tags": []
          },
          "execution_count": 59
        }
      ]
    },
    {
      "cell_type": "code",
      "metadata": {
        "colab": {
          "base_uri": "https://localhost:8080/"
        },
        "id": "o-3WVsGzgMk3",
        "outputId": "d94505ce-f0fa-4830-9c9f-08d2ab408856"
      },
      "source": [
        "print(\"\"\"\n",
        "Sinir ağı modeli için test doğruluğu: %{NN}\n",
        "Karar ağacı için test doğruluğu: %{tree}\n",
        "\"\"\".format(NN=round(test_acc_NN*100,2),\n",
        "           tree=test_acc_tree*100))"
      ],
      "execution_count": null,
      "outputs": [
        {
          "output_type": "stream",
          "text": [
            "\n",
            "Sinir ağı modeli için test doğruluğu: %94.47\n",
            "Karar ağacı için test doğruluğu: %95.53\n",
            "\n"
          ],
          "name": "stdout"
        }
      ]
    }
  ]
}