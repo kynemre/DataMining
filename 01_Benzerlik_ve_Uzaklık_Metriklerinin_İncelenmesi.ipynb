{
  "nbformat": 4,
  "nbformat_minor": 0,
  "metadata": {
    "colab": {
      "name": "01 - Benzerlik ve Uzaklık Metriklerinin İncelenmesi.ipynb",
      "provenance": [],
      "collapsed_sections": [
        "ZtpKOFjWCNCr",
        "wPhg8IpuCQ0G",
        "Lxgzvt3aCVW_",
        "qgSN4YlBCYTf",
        "pBO5JDUBCbkv",
        "9q08B9UFCfPE",
        "YFYMjWxRCjpd"
      ],
      "authorship_tag": "ABX9TyNqkxBZPiSEG9BOdzSlrGv0",
      "include_colab_link": true
    },
    "kernelspec": {
      "name": "python3",
      "display_name": "Python 3"
    },
    "language_info": {
      "name": "python"
    }
  },
  "cells": [
    {
      "cell_type": "markdown",
      "metadata": {
        "id": "view-in-github",
        "colab_type": "text"
      },
      "source": [
        "<a href=\"https://colab.research.google.com/github/kynemre/DataMining/blob/main/01_Benzerlik_ve_Uzakl%C4%B1k_Metriklerinin_%C4%B0ncelenmesi.ipynb\" target=\"_parent\"><img src=\"https://colab.research.google.com/assets/colab-badge.svg\" alt=\"Open In Colab\"/></a>"
      ]
    },
    {
      "cell_type": "markdown",
      "metadata": {
        "id": "Z1mwZaTyVh1r"
      },
      "source": [
        "<h1>Benzerlik ya da Uzaklık Metriklerinin İncelenmesi</h1>\n",
        "<p>Bu çalışmamızda veri madenciliğinde kullanılan temel benzerlik ve uzaklık metrikleri ile ilgili fonksiyonları yazıp hesaplamalarını yapacağız</p></br>\n",
        "\n",
        "<ul>\n",
        "<p>Benzerlik Ölçütleri</p>\n",
        "  <li>Euclidean Distance</li>\n",
        "  <li>Cosine Similarity</li>\n",
        "  <li>Correlation</li>\n",
        "  <li>Manhattan Distance</li>\n",
        "  <li>Minkowski</li>\n",
        "  <li>Hamming Distance</li>\n",
        "</ul><br>\n",
        "\n",
        "<p><center><a href=\"https://towardsdatascience.com/9-distance-measures-in-data-science-918109d069fa\"><img src=\"https://miro.medium.com/max/700/1*2J3iaDnuLhonNGvlTKthiQ.png\"></a></center></p>"
      ]
    },
    {
      "cell_type": "markdown",
      "metadata": {
        "id": "ZtpKOFjWCNCr"
      },
      "source": [
        "# Euclidean Distance"
      ]
    },
    {
      "cell_type": "markdown",
      "metadata": {
        "id": "eD1nBmHZXAxT"
      },
      "source": [
        "<p align=\"justify\">\n",
        "Öklid uzaklığı, çok boyutlu kartezyen veri uzayında iki nokta arasındaki uzaklığın doğrusal bağlantı yöntemi ile ölçülmesidir. En çok kullanılan uzaklık ölçütüdür.Aşağıdaki görselde koordinat düzlemindek iki nokta verilerek öklid uzaklığı temsil edilmiştir.</p><br>\n",
        "\n",
        "\n",
        "<hr>\n",
        "<center><a href=\"https://www.ahmetcevahircinar.com.tr/2017/04/17/oklit-uzakligi-nasil-hesaplanir/\"><img src=\"https://www.ahmetcevahircinar.com.tr/wp-content/uploads/2017/04/ikiboyutlu.jpg\" alt=\"A ve B Noktaları Arasındaki Uzalığın Koordinat Düzleminde Gösterimi\" height=\"200\"></a>\n",
        "<p><small>A ve B Noktaları Arasındaki Uzalığın Koordinat Düzleminde Gösterimi</small></p>\n",
        "</center>\n",
        "<hr>\n",
        "<br>\n",
        "<p>\n",
        "$$d\\left( A,B\\right)   = \\sqrt {\\sum _{i=1}^{n}  \\left( A_{i}-B_{i}\\right)^2 } $$\n",
        "<center><small>Öklid Eşitliği</small></center>\n",
        "</p>\n",
        "<hr>\n",
        "<br>\n",
        "<p align=\"justify\">Öklid uzaklığı kullanımında <a href=\"https://www.educative.io/edpresso/data-normalization-in-python\">data normalizasyon</a> işleminin uygulanmalısı önemlidir. Daha büyük aralıktaki bir nitelik diğer nitelikleri bastırabilir. Örnek olarak; bir veri setindeki bir kişinin yaş aralığı 30 ile 70 arasında iken maaş aralığı 3,000 ile 20,000 arasında olabilir. Böyle bir durumda maaş, yaş niteliğini bastırmış olacaktır. <br> Verilerinizin boyutsallığı arttıkça, Öklid mesafesi daha az kullanışlı hale gelir. Bu durum, yüksek boyutlu uzayda, 2 veya 3 boyutlu uzaydan beklediğimiz gibi davranmadığı fikrine bağlı olan <a href=\"https://veribilimcisi.com/2017/09/14/boyutsalligin-laneti-curse-of-dimensionality/\">boyutsallık laneti (Curse of Dimensionality)</a> ile ilgilidir.</p></br>\n",
        "\n",
        "<center><a href=\"https://towardsdatascience.com/k-nearest-neighbors-knn-explained-cbc31849a7e3\"><img src=\"https://miro.medium.com/max/1262/1*mFNKqdk8OEoRuZTD6Gnepw.png\" alt=\"A ve B Noktalarındaki Örnek Koordinatlar ve İki Nokta Arası Mesafe İçin Öklid Fonksiyonu\" height=\"250\"></a>\n",
        "<p><small> A ve B Noktalarındaki Örnek Koordinatlar ve İki Nokta Arası Mesafe İçin Öklid Fonksiyonu</small></p>\n",
        "</center><br>\n",
        "\n",
        "<b>Yazdığımız kodlar ile yukarıdaki koordinat düzleminde bulunan <i>A</i> ve <i>B</i> noktaları arasındaki uzaklığı hesaplayalım. </b>"
      ]
    },
    {
      "cell_type": "markdown",
      "metadata": {
        "id": "0SE2McMzeA7l"
      },
      "source": [
        "<h3>Fonksiyonun Gerçeklenmesi</h3>"
      ]
    },
    {
      "cell_type": "code",
      "metadata": {
        "colab": {
          "base_uri": "https://localhost:8080/"
        },
        "id": "oHVcEZTmVXeD",
        "outputId": "3361f3d3-a5c3-44eb-f030-cfeabc886995"
      },
      "source": [
        "def oklidMesafesi(koordinat1, koordinat2):\n",
        "    \"\"\"\n",
        "    Verilen iki koordinat arası mesafeyi hesaplar.\n",
        "    Bir float değişkeni döndürür.\n",
        "    \"\"\"\n",
        "    if len(koordinat1) != len(koordinat2):\n",
        "        raise ValueError(\"Vektör uzunlukları eşit olmalı\")\n",
        "\n",
        "    kareler_toplami = 0\n",
        "    for idx,_ in enumerate(koordinat1):\n",
        "        kareler_toplami += (koordinat1[idx] - koordinat2[idx])**2\n",
        "    \n",
        "    return kareler_toplami**0.5\n",
        "\n",
        "koordinatA = [2,3]\n",
        "koordinatB = [6,6]\n",
        "\n",
        "mesafe = oklidMesafesi(koordinat1=koordinatA, koordinat2=koordinatB)\n",
        "\n",
        "print(\"{koor1} ve {koor2} koordinatları arasındaki mesafe: {mesafe}\".format(\n",
        "    koor1=koordinatA,\n",
        "    koor2=koordinatB,\n",
        "    mesafe=round(mesafe,2)))"
      ],
      "execution_count": null,
      "outputs": [
        {
          "output_type": "stream",
          "text": [
            "[2, 3] ve [6, 6] koordinatları arasındaki mesafe: 5.0\n"
          ],
          "name": "stdout"
        }
      ]
    },
    {
      "cell_type": "markdown",
      "metadata": {
        "id": "nqKh-lzJeHQR"
      },
      "source": [
        "<h3>Sklearn Kütüphanesinde Oklid Uzaklığı</h3>"
      ]
    },
    {
      "cell_type": "code",
      "metadata": {
        "colab": {
          "base_uri": "https://localhost:8080/"
        },
        "id": "w1CEr1aJXF2i",
        "outputId": "5a9fa033-d33d-4eaa-9ff1-254b7523f95a"
      },
      "source": [
        "import numpy as np\n",
        "from sklearn.metrics.pairwise import euclidean_distances\n",
        "\n",
        "koordinatA = [2,3]\n",
        "koordinatB = [6,6]\n",
        "\n",
        "\n",
        "A = np.array(koordinatA).reshape(1,-1)\n",
        "B = np.array(koordinatB).reshape(1,-1)\n",
        "\n",
        "mesafe = euclidean_distances(A, B)[0][0]\n",
        "\n",
        "print(\"{koor1} ve {koor2} koordinatları arasındaki mesafe: {mesafe}\".format(\n",
        "    koor1=koordinatA,\n",
        "    koor2=koordinatB,\n",
        "    mesafe=round(mesafe,2)))"
      ],
      "execution_count": null,
      "outputs": [
        {
          "output_type": "stream",
          "text": [
            "[2, 3] ve [6, 6] koordinatları arasındaki mesafe: 5.0\n"
          ],
          "name": "stdout"
        }
      ]
    },
    {
      "cell_type": "markdown",
      "metadata": {
        "id": "KGr2M5keePAV"
      },
      "source": [
        "<h3>Scipy Kütüphanesinde Oklid Uzaklığı</h3>"
      ]
    },
    {
      "cell_type": "code",
      "metadata": {
        "colab": {
          "base_uri": "https://localhost:8080/"
        },
        "id": "gxsECkfCd9EJ",
        "outputId": "b1a8a08b-3df9-413a-e2f4-37db2f9586ad"
      },
      "source": [
        "from scipy.spatial import distance\n",
        "\n",
        "koordinatA = [2,3]\n",
        "koordinatB = [6,6]\n",
        "\n",
        "\n",
        "mesafe = distance.euclidean(koordinatA, koordinatB) \n",
        "\n",
        "print(\"{koor1} ve {koor2} koordinatları arasındaki mesafe: {mesafe}\".format(\n",
        "    koor1=koordinatA,\n",
        "    koor2=koordinatB,\n",
        "    mesafe=round(mesafe,2)))"
      ],
      "execution_count": null,
      "outputs": [
        {
          "output_type": "stream",
          "text": [
            "[2, 3] ve [6, 6] koordinatları arasındaki mesafe: 5.0\n"
          ],
          "name": "stdout"
        }
      ]
    },
    {
      "cell_type": "markdown",
      "metadata": {
        "id": "wPhg8IpuCQ0G"
      },
      "source": [
        "# Cosine Similarity"
      ]
    },
    {
      "cell_type": "markdown",
      "metadata": {
        "id": "v5k379z7XGJG"
      },
      "source": [
        "<p>Kosinüs benzerliği , bir iç çarpım uzayının sıfır olmayan iki vektörü arasındaki benzerliğin bir ölçüsüdür.</p><hr></br>\n",
        "<p>Bir takım belgeyle veya metinle çalıştığımızı varsayalım.</p>\n",
        "<ul>\n",
        "<li>Kayıtlı dokümanlar arasından arama yaptığım metine bezeyenlerini nasıl bulabilirim?</li>\n",
        "<li>Bu yazıya benzeyen diğer yazıları nasıl listeleyebiliriz?</li>\n",
        "<li>Bu metinleri belirli gruplar altında nasıl sınıflandırabiliriz?</li>\n",
        "</ul>\n",
        "<center>\n",
        "<p align=\"justify\"> Metinleri <a href=\"https://en.wikipedia.org/wiki/Euclidean_vector\">vektör</a> olarak ifade edebilirsek vektörlerin arasındaki ilişkileri matematiksel yöntemlerle ve programlama yöntemleriyle inceleyebiliriz. Örneğin vektörler arasındaki açı metinler arasındaki benzerliğin bir ölçüsü olabilir.  Bu yöntem <a href=\"https://en.wikipedia.org/wiki/Cosine_similarity\">kosinüs benzerliği</a> olarak biliniyor.</p>\n",
        "\n",
        "<p>Vektör Uzayı ve Vektörler arasındaki açının bulunması örneği;</p>\n",
        "<figure><img src=\"https://bahadirakcora.files.wordpress.com/2016/03/vector_space_model.jpg?w=436&#038;h=429\" alt=\"vector_space_model\" height=\"300\"/><figcaption>Vektör Uzayı Modeli</figcaption></figure>\n",
        "<p><img src=\"https://bahadirakcora.files.wordpress.com/2016/03/d1_q.jpg?w=809\" alt=\"d1_q\"/>uzayımız içerisindeki doküman vektörlerimiz olsun.</p></br>\n",
        "\n",
        "<p><img src=\"https://bahadirakcora.files.wordpress.com/2016/03/q.jpg?w=14&#038;h=24\" alt=\"q\" width=\"14\" height=\"24\" /> da arama yaptığımız sorgu metnimiz (query) olsun;</p></br>\n",
        "\n",
        "\n",
        "<p>Buradan;</p>\n",
        "<p><img src=\"https://bahadirakcora.files.wordpress.com/2016/03/8d0523a38aa48c974717349f92af0f84.png?w=809\" alt=\"8d0523a38aa48c974717349f92af0f84\"/></p>\n",
        "<p>θ açışının değeri azaldıkça iki vektör arasındaki benzerlik artar. Örneğin cos(90) = 0 iken cos(0) = 1 değerini alır.</p>\n",
        "<p>Cos(θ ) = 0,82 İse bu iki doküman birbirine %82 benzerdir denilebilir.</p>\n",
        "<p><img src=\"https://bahadirakcora.files.wordpress.com/2016/03/4b46cdfe6bfb359b6a16a365e97f833c.png?w=809\" alt=\"4b46cdfe6bfb359b6a16a365e97f833c\"/>  ve  <img src=\"https://bahadirakcora.files.wordpress.com/2016/03/03c76689a0d2387e52514b1641793665.png?w=809\" alt=\"03c76689a0d2387e52514b1641793665\"/> ifadeleri q ve d2 vektörlerinin büyüklüklerini gösterir.</p>\n",
        "<p>q vektörü için hesaplanması aşağıda gösterilmiştir.</p>\n",
        "<p><img src=\"https://bahadirakcora.files.wordpress.com/2016/03/b5e62f1342cb44ad1fc98bb87624e1c1.png?w=809\" alt=\"b5e62f1342cb44ad1fc98bb87624e1c1\"/></p>\n",
        "<p>q vektörünü tanımlayan değerlerin kareleri toplamının kare köküne eşittir. Bildiğimiz dik üçgendeki hipotenüsü hesaplamaya benziyor.</p>\n",
        "<hr>\n",
        "<br>\n",
        "<p>Kosinüs benzerliğinin temel bir dezavantajı, vektörlerin büyüklüğünün hesaba katılmaması, sadece yönlerinin hesaba katılmasıdır. </p>\n",
        "<hr>\n",
        "<center><a href=\"https://neo4j.com/docs/graph-algorithms/current/labs-algorithms/cosine/\"><img src=\"https://neo4j.com/docs/graph-algorithms/current/images/cosine-similarity.png\" alt=\"Kosinüs Benzerliği Formülü\" height=\"200\"></a>\n",
        "<p><small>Kosinüs Benzerliği Formülü</small></p>\n",
        "</center>\n",
        "<hr></br>\n",
        "<p align=\"justify\">Bir belge, belgedeki belirli bir sözcüğün (anahtar sözcük gibi) veya tümceciklerin sıklığını kaydeden binlerce öznitelikle temsil edilebilir. Bu nedenle, her belgeye terim-frekans vektörü olarak adlandırılan bir nesne diyebiliriz. Örneğin, aşağıdaki tabloda, <i>Belge1</i>'de <i>takım</i> kelimesinin beş kez, <i>voleybol</i> kelimesinin ise üç kez geçtiğini görüyoruz. <i>antrenör</i> kelimesi ise belgenin tamamında yoktur. Bu tür veriler oldukça asimetrik olabilir.</p>\n",
        "<table>\n",
        "<thead><tr ><th><em>Belge</em></th>\n",
        "<th><em>takım</em></th>\n",
        "<th><em>antrenör</em></th>\n",
        "<th><em>voleybol</em></th>\n",
        "<th><em>basketbol</em></th>\n",
        "<th><em>futbol</em></th>\n",
        "<th><em>penaltı</em></th>\n",
        "<th><em>puan</em></th>\n",
        "<th><em>galibiyet</em></th>\n",
        "<th><em>mağlubiyet</em></th>\n",
        "<th><em>sezon</em></th>\n",
        "</tr></thead>\n",
        "<tbody><tr>\n",
        "<td ><em>Belge1</em>\n",
        "</td><td >5</td><td >0</td>\n",
        "<td >3</td><td >0</td>\n",
        "<td >2</td><td >0</td>\n",
        "<td >0</td><td >2</td>\n",
        "<td >0</td><td >0</td></tr>\n",
        "<tr><td ><em>Belge2</em></td>\n",
        "<td >3</td>\n",
        "<td >0</td>\n",
        "<td >2</td>\n",
        "<td >0</td>\n",
        "<td >1</td>\n",
        "<td >1</td>\n",
        "<td >0</td>\n",
        "<td >1</td>\n",
        "<td >0</td>\n",
        "<td >1</td></tr>\n",
        "<tr><td ><em>Belge3</em></td>\n",
        "<td >0</td>\n",
        "<td >7</td>\n",
        "<td >0</td>\n",
        "<td >2</td>\n",
        "<td >1</td>\n",
        "<td >0</td>\n",
        "<td >0</td>\n",
        "<td >3</td>\n",
        "<td >0</td>\n",
        "<td >0</td></tr>\n",
        "<tr><td ><em>Belge4</em></td>\n",
        "<td >0</td>\n",
        "<td >1</td>\n",
        "<td >0</td>\n",
        "<td >0</td>\n",
        "<td >1</td>\n",
        "<td >2</td>\n",
        "<td >2</td>\n",
        "<td >0</td>\n",
        "<td >3</td>\n",
        "<td >0</td></tr>\n",
        "</tbody>\n",
        "</table></center></br>\n",
        "<b>Yazdığımız kodlar ile tablodaki belgeler arasındaki benzerliği hesaplayalım. </b>"
      ]
    },
    {
      "cell_type": "markdown",
      "metadata": {
        "id": "DfwT7xPqKCeP"
      },
      "source": [
        "<h3>Fonksiyonun Gerçeklenmesi</h3>"
      ]
    },
    {
      "cell_type": "code",
      "metadata": {
        "colab": {
          "base_uri": "https://localhost:8080/"
        },
        "id": "Zs79nTed5Bxb",
        "outputId": "581709ab-6d64-4637-89f0-660e05877067"
      },
      "source": [
        "import numpy as np\n",
        "\n",
        "def kosinusBenzerligi(vektor1, vektor2):\n",
        "    \n",
        "    if len(vektor1) != len(vektor2):\n",
        "        raise ValueError(\"Vektör uzunlukları eşit olmalı\")\n",
        "\n",
        "    pay = np.dot(vektor1, vektor2)\n",
        "    payda = np.dot(vektor1, vektor1)**0.5 * np.dot(vektor2, vektor2)**0.5\n",
        "    return pay/payda\n",
        "\n",
        "belge1 = np.array([5, 0, 3, 0, 2, 0, 0, 2, 0, 0])\n",
        "belge2 = np.array([3, 0, 2, 0, 1, 1, 0, 1, 0, 1])\n",
        "belge3 = np.array([0, 7, 0, 2, 1, 0, 0, 3, 0, 0])\n",
        "belge4 = np.array([0, 1, 0, 0, 1, 2, 2, 0, 3, 0])\n",
        "\n",
        "belge1_2 = kosinusBenzerligi(belge1, belge2)\n",
        "belge1_3 = kosinusBenzerligi(belge1, belge3)\n",
        "belge1_4 = kosinusBenzerligi(belge1, belge4)\n",
        "belge2_3 = kosinusBenzerligi(belge2, belge3)\n",
        "belge2_4 = kosinusBenzerligi(belge2, belge4)\n",
        "belge3_4 = kosinusBenzerligi(belge3, belge4)\n",
        "\n",
        "print(\"belge1 ve belge2 arasındaki benzerlik: {benzerlik}\".format(benzerlik=round(belge1_2,2)))\n",
        "print(\"belge1 ve belge3 arasındaki benzerlik: {benzerlik}\".format(benzerlik=round(belge1_4,2)))\n",
        "print(\"belge1 ve belge4 arasındaki benzerlik: {benzerlik}\".format(benzerlik=round(belge1_4,2)))\n",
        "print(\"belge2 ve belge3 arasındaki benzerlik: {benzerlik}\".format(benzerlik=round(belge2_3,2)))\n",
        "print(\"belge2 ve belge4 arasındaki benzerlik: {benzerlik}\".format(benzerlik=round(belge2_4,2)))\n",
        "print(\"belge3 ve belge4 arasındaki benzerlik: {benzerlik}\".format(benzerlik=round(belge3_4,2)))"
      ],
      "execution_count": null,
      "outputs": [
        {
          "output_type": "stream",
          "text": [
            "belge1 ve belge2 arasındaki benzerlik: 0.94\n",
            "belge1 ve belge3 arasındaki benzerlik: 0.07\n",
            "belge1 ve belge4 arasındaki benzerlik: 0.07\n",
            "belge2 ve belge3 arasındaki benzerlik: 0.12\n",
            "belge2 ve belge4 arasındaki benzerlik: 0.17\n",
            "belge3 ve belge4 arasındaki benzerlik: 0.23\n"
          ],
          "name": "stdout"
        }
      ]
    },
    {
      "cell_type": "markdown",
      "metadata": {
        "id": "nNeIv3WVJ3_H"
      },
      "source": [
        "<h3>Sklearn Kütüphanesinde Kosinüs Benzerliği</h3>"
      ]
    },
    {
      "cell_type": "code",
      "metadata": {
        "id": "lNDCxl2YXGiO",
        "colab": {
          "base_uri": "https://localhost:8080/"
        },
        "outputId": "8f6fdac7-b9f0-497e-d729-5cc625d3f370"
      },
      "source": [
        "from sklearn.metrics.pairwise import cosine_similarity\n",
        "\n",
        "belge1 = np.array([5, 0, 3, 0, 2, 0, 0, 2, 0, 0]).reshape(1,-1)\n",
        "belge2 = np.array([3, 0, 2, 0, 1, 1, 0, 1, 0, 1]).reshape(1,-1)\n",
        "belge3 = np.array([0, 7, 0, 2, 1, 0, 0, 3, 0, 0]).reshape(1,-1)\n",
        "belge4 = np.array([0, 1, 0, 0, 1, 2, 2, 0, 3, 0]).reshape(1,-1)\n",
        "\n",
        "belge1_2 = cosine_similarity(belge1, belge2)[0,0]\n",
        "belge1_3 = cosine_similarity(belge1, belge3)[0,0]\n",
        "belge1_4 = cosine_similarity(belge1, belge4)[0,0]\n",
        "belge2_3 = cosine_similarity(belge2, belge3)[0,0]\n",
        "belge2_4 = cosine_similarity(belge2, belge4)[0,0]\n",
        "belge3_4 = cosine_similarity(belge3, belge4)[0,0]\n",
        "\n",
        "print(\"belge1 ve belge2 arasındaki benzerlik: {benzerlik}\".format(benzerlik=round(belge1_2,2)))\n",
        "print(\"belge1 ve belge3 arasındaki benzerlik: {benzerlik}\".format(benzerlik=round(belge1_4,2)))\n",
        "print(\"belge1 ve belge4 arasındaki benzerlik: {benzerlik}\".format(benzerlik=round(belge1_4,2)))\n",
        "print(\"belge2 ve belge3 arasındaki benzerlik: {benzerlik}\".format(benzerlik=round(belge2_3,2)))\n",
        "print(\"belge2 ve belge4 arasındaki benzerlik: {benzerlik}\".format(benzerlik=round(belge2_4,2)))\n",
        "print(\"belge3 ve belge4 arasındaki benzerlik: {benzerlik}\".format(benzerlik=round(belge3_4,2)))"
      ],
      "execution_count": null,
      "outputs": [
        {
          "output_type": "stream",
          "text": [
            "belge1 ve belge2 arasındaki benzerlik: 0.94\n",
            "belge1 ve belge3 arasındaki benzerlik: 0.07\n",
            "belge1 ve belge4 arasındaki benzerlik: 0.07\n",
            "belge2 ve belge3 arasındaki benzerlik: 0.12\n",
            "belge2 ve belge4 arasındaki benzerlik: 0.17\n",
            "belge3 ve belge4 arasındaki benzerlik: 0.23\n"
          ],
          "name": "stdout"
        }
      ]
    },
    {
      "cell_type": "markdown",
      "metadata": {
        "id": "e5SzDXQ6J0QK"
      },
      "source": [
        "<h3>Scipy Kütüphanesinde Kosinüs Benzerliği</h3>"
      ]
    },
    {
      "cell_type": "code",
      "metadata": {
        "colab": {
          "base_uri": "https://localhost:8080/"
        },
        "id": "HkqbTUo2IM1u",
        "outputId": "4d244571-ffcd-4f32-e127-c69851c5ff3a"
      },
      "source": [
        "from scipy import spatial\n",
        "\n",
        "belge1 = np.array([5, 0, 3, 0, 2, 0, 0, 2, 0, 0])\n",
        "belge2 = np.array([3, 0, 2, 0, 1, 1, 0, 1, 0, 1])\n",
        "belge3 = np.array([0, 7, 0, 2, 1, 0, 0, 3, 0, 0])\n",
        "belge4 = np.array([0, 1, 0, 0, 1, 2, 2, 0, 3, 0])\n",
        "\n",
        "belge1_2 = 1 - spatial.distance.cosine(belge1, belge2)\n",
        "belge1_3 = 1 - spatial.distance.cosine(belge1, belge3)\n",
        "belge1_4 = 1 - spatial.distance.cosine(belge1, belge4)\n",
        "belge2_3 = 1 - spatial.distance.cosine(belge2, belge3)\n",
        "belge2_4 = 1 - spatial.distance.cosine(belge2, belge4)\n",
        "belge3_4 = 1 - spatial.distance.cosine(belge3, belge4)\n",
        "\n",
        "print(\"belge1 ve belge2 arasındaki benzerlik: {benzerlik}\".format(benzerlik=round(belge1_2,2)))\n",
        "print(\"belge1 ve belge3 arasındaki benzerlik: {benzerlik}\".format(benzerlik=round(belge1_4,2)))\n",
        "print(\"belge1 ve belge4 arasındaki benzerlik: {benzerlik}\".format(benzerlik=round(belge1_4,2)))\n",
        "print(\"belge2 ve belge3 arasındaki benzerlik: {benzerlik}\".format(benzerlik=round(belge2_3,2)))\n",
        "print(\"belge2 ve belge4 arasındaki benzerlik: {benzerlik}\".format(benzerlik=round(belge2_4,2)))\n",
        "print(\"belge3 ve belge4 arasındaki benzerlik: {benzerlik}\".format(benzerlik=round(belge3_4,2)))"
      ],
      "execution_count": null,
      "outputs": [
        {
          "output_type": "stream",
          "text": [
            "belge1 ve belge2 arasındaki benzerlik: 0.94\n",
            "belge1 ve belge3 arasındaki benzerlik: 0.07\n",
            "belge1 ve belge4 arasındaki benzerlik: 0.07\n",
            "belge2 ve belge3 arasındaki benzerlik: 0.12\n",
            "belge2 ve belge4 arasındaki benzerlik: 0.17\n",
            "belge3 ve belge4 arasındaki benzerlik: 0.23\n"
          ],
          "name": "stdout"
        }
      ]
    },
    {
      "cell_type": "markdown",
      "metadata": {
        "id": "Lxgzvt3aCVW_"
      },
      "source": [
        "# Correlation"
      ]
    },
    {
      "cell_type": "markdown",
      "metadata": {
        "id": "CB4ydVdHXGvO"
      },
      "source": [
        "<p><b>Korelasyon</b>, <a href=\"https://tr.wikipedia.org/wiki/Olas%C4%B1l%C4%B1k_teorisi\" class=\"mw-redirect\" title=\"Olasılık kuramı\">olasılık kuramı</a> ve <a href=\"https://tr.wikipedia.org/wiki/%C4%B0statistik\" title=\"İstatistik\">istatistikte</a> iki rassal değişken arasındaki doğrusal ilişkinin yönünü ve gücünü belirtir. Genel istatistiksel kullanımda korelasyon, bağımsızlık durumundan ne kadar uzaklaşıldığını gösterir.\n",
        "</p><hr></br>\n",
        "<p><a href=\"https://tr.wikipedia.org/wiki/Korelasyon\">Korelasyon</a> katsayısının birden fazla yöntemi vardır. Bu bölümde, korelasyon katsayısını hesaplamada <a href=\"https://tr.wikipedia.org/wiki/Kovaryans\">kovaryans</a> ve <a href=\"https://tr.wikipedia.org/wiki/Standart_sapma\">standart sapma</a> hesaplaması yapacağımız için öncelikle bu hesaplamalara bakalım.</p><hr>\n",
        "<h2>Kovaryans</h2>\n",
        "<p>Olasılık teorisi ve istatistikte, kovaryans iki değişkenin birlikte ne kadar değiştiklerinin ölçüsüdür. Kovaryans, iki rastgele değişkenin beraber değişimlerini inceleyen bir istatistiktir. Örneklem için kovaryans eşitliği aşağıdaki gibidir.</p></br>\n",
        "\n",
        "$$cov(x,y)=\\frac{1}{N-1}\\sum_{i=1}^{N}(x_{i}-\\bar{x})(y_{i}-\\bar{y})$$\n",
        "<small><center>Kovaryans Formülü</small></center><br>\n",
        "<ul>\n",
        "<li>$cov(x,y) = 0$ ise bu değişkenler arasında <i>ilişki yoktur</i>. </li>\n",
        "<li>$cov(x,y) > 0$ ise bu değişkenler arasında <i>aynı yöndedir</i>.</li>\n",
        "<li>$cov(x,y) < 0$ ise bu değişkenler arasında <i>farklı yöndedir</i>.</li>\n",
        "</ul>\n",
        "<hr>\n",
        "<p>Yukarıdaki maddelerden yola çıkarak, kovaryans işleminin değişkenler arasındaki ilişkinin <i>yönünü</i> belirlediğini söyleyebiliriz. <b>Korelasyon katsayısı</b> ise değişkenlerin arasındaki ilişkinin <i>şiddetini</i> belirlemede kullanılır.</p>\n",
        "<hr>\n",
        "<h2>Standart Sapma</h2>\n",
        "<p>Standart Sapma veri değerlerinin yayılımının özetlenmesi için kullanılan bir ölçüdür.</p></br>\n",
        "\n",
        "$$ s_{x} = \\sqrt{\\frac{1}{N-1}\\sum_{i=1}^{N}(x_{i}-\\bar{x})^2} $$\n",
        "<small><center>Standart Sapma Formülü</small></center><br><hr>\n",
        "<h2>Korelasyon</h2>\n",
        "<p>Korelasyon katsayısı, bağımsız değişkenler arasındaki ilişkinin yönü ve büyüklüğünü belirten katsayıdır. Bu katsayı, (-1) ile (+1) arasında bir değer alır. Pozitif değerler direkt yönlü doğrusal ilişkiyi; negatif değerler ise ters yönlü bir doğrusal ilişkiyi belirtir. Korelasyon katsayısı 0 ise söz konusu değişkenler arasında doğrusal bir ilişki yoktur. Pearson'un çarpım-moment korelasyon katsayısı aşağıdaki gibi tanımlanabilir.</p><br>\n",
        "$$ cor(x,y) = \\frac{N\\sum{xy}-(\\sum{x}\\sum{y})}{\\sqrt{ [N \\sum{x^2}-(\\sum{x})^2 ][N \\sum{y^2}-(\\sum{y})^2 }]} $$\n",
        "<small><center>Pearson Momentler Çarpımı Korelasyon\n",
        "Katsayısı Formülü</small></center><br>\n",
        "<br>\n",
        "$$ corr(x,y) = \\frac{cov(x, y)}{standartDeviation(x)\\times standartDeviation(y)} $$\n",
        "<small><center>Pearson Momentler Çarpımı Korelasyon\n",
        "Katsayısı Formülü</small></center><br>\n",
        "<p>Korelasyon işlemi sonucunda elde edilen değerin ifade ettiği ilişki aşağıdaki tabloda gösterilmiştir.</p>\n",
        "<p>\n",
        "<small><center>Korelasyon Katsayısı İlişki Tablosu</small></center>\n",
        "<table border=\"1\" cellpadding=\"5\" cellspacing=\"0\" align=\"center\">\n",
        "<tbody><tr>\n",
        "<td>Korelasyon</td>\n",
        "<td>Negatif</td>\n",
        "<td>Pozitif\n",
        "</td></tr>\n",
        "<tr>\n",
        "<td>Düşük</td>\n",
        "<td>-0,29 to -0,10</td>\n",
        "<td>0,10 to 0,29\n",
        "</td></tr>\n",
        "<tr>\n",
        "<td>Orta derecede</td>\n",
        "<td>-0,49 to -0,30</td>\n",
        "<td>0,30 to 0,49\n",
        "</td></tr>\n",
        "<tr>\n",
        "<td>Yüksek</td>\n",
        "<td>-0,50 to -1,00</td>\n",
        "<td>0,50 to 1,00\n",
        "</td></tr></tbody></table>\n",
        "\n",
        "</p><hr></br>\n",
        "<p>Küçük bir dondurma şirketi, gün ve gün dondurma satışından elde edilen geliri ve hava sıcaklığını kayıt ediyor. Aşağıdaki tabloda son 12 güne ait veeriler gösterilmiştir.</p>\n",
        "\n",
        "<table align=\"center\" cellpadding=\"4\" border=\"3\">\n",
        "<tbody>\n",
        "<tr align=\"center\">\n",
        "<td colspan=\"2\"><b><em>Hava Sıcaklığı ve Dondurma Satışı</em><em></em></b></td>\n",
        "</tr>\n",
        "<tr align=\"center\">\n",
        "<th>Hava Sıcaklığı °C</th>\n",
        "<th>Dondurma Satışı</th>\n",
        "</tr>\n",
        "<tr align=\"center\">\n",
        "<td>14,2°</td>\n",
        "<td>215₺</td>\n",
        "</tr>\n",
        "<tr align=\"center\">\n",
        "<td>16,4°</td>\n",
        "<td>325₺</td>\n",
        "</tr>\n",
        "<tr align=\"center\">\n",
        "<td>11,9°</td>\n",
        "<td>185₺</td>\n",
        "</tr>\n",
        "<tr align=\"center\">\n",
        "<td>15,2°</td>\n",
        "<td>332₺</td>\n",
        "</tr>\n",
        "<tr align=\"center\">\n",
        "<td>18,5°</td>\n",
        "<td>406₺</td>\n",
        "</tr>\n",
        "<tr align=\"center\">\n",
        "<td>22,1°</td>\n",
        "<td>522₺</td>\n",
        "</tr>\n",
        "<tr align=\"center\">\n",
        "<td>19,4°</td>\n",
        "<td>412₺</td>\n",
        "</tr>\n",
        "<tr align=\"center\">\n",
        "<td>25,1°</td>\n",
        "<td>614₺ </td>\n",
        "</tr>\n",
        "<tr align=\"center\">\n",
        "<td>23,4°</td>\n",
        "<td>544₺</td>\n",
        "</tr>\n",
        "<tr align=\"center\">\n",
        "<td>18,1°</td>\n",
        "<td>421₺</td>\n",
        "</tr>\n",
        "<tr align=\"center\">\n",
        "<td>22,6°</td>\n",
        "<td>445₺</td>\n",
        "</tr>\n",
        "<tr align=\"center\">\n",
        "<td>17,2°</td>\n",
        "<td>408₺</td>\n",
        "</tr>\n",
        "</tbody></table><br>\n",
        "<p>Yukarıdaki tabloda verilen verileri kullanarak hesaplamalarımızı gerçekleştirelim. </p>"
      ]
    },
    {
      "cell_type": "markdown",
      "metadata": {
        "id": "_JkuKkjZ4s3W"
      },
      "source": [
        "<h3>Kovaryans ve Standart Sapma Fonksiyonun Gerçeklenmesi</h3>"
      ]
    },
    {
      "cell_type": "code",
      "metadata": {
        "id": "ZSPjcsAWXUff",
        "colab": {
          "base_uri": "https://localhost:8080/"
        },
        "outputId": "ed5fa822-a0f1-418e-b114-5e444770df72"
      },
      "source": [
        "def ortalama(vektor):\n",
        "    \"\"\"\n",
        "    Bu fonksiyon verilen bir int/float listenin ortlamasını hesaplar.\n",
        "    Bir float değişkeni döndürür.\n",
        "    \"\"\"\n",
        "    toplam = 0\n",
        "    for var in vektor:\n",
        "        toplam += var\n",
        "    return toplam/len(vektor);\n",
        "\n",
        "def standartSapma(vektor):\n",
        "    \"\"\"\n",
        "    Bu fonksiyon verilen bir int/float listenin standart sapmasını hesaplar.\n",
        "    Bir float değişkeni döndürür.\n",
        "    \"\"\"\n",
        "    N = len(vektor)\n",
        "    toplam = 0\n",
        "    ort = ortalama(vektor)\n",
        "    for var in vektor:\n",
        "        toplam += (var-ort)**2\n",
        "    return (toplam/(N-1))**0.5\n",
        "\n",
        "def kovaryans(vektor1, vektor2):\n",
        "    \"\"\"\n",
        "    Bu fonksiyon verilen iki int/float listenin kovaryansını hesaplar.\n",
        "    Bir float değişkeni döndürür.\n",
        "    \"\"\"\n",
        "    if len(vektor1) != len(vektor2):\n",
        "        raise ValueError(\"Vektör uzunlukları eşit olmalı\")\n",
        "\n",
        "    N = len(vektor1)\n",
        "    vektor1_ort = ortalama(vektor1)\n",
        "    vektor2_ort = ortalama(vektor2)\n",
        "    toplam = 0\n",
        "    for i in range(N):\n",
        "        temp1 = vektor1[i] - vektor1_ort\n",
        "        temp2 = vektor2[i] - vektor2_ort\n",
        "        toplam += temp1*temp2\n",
        "    return toplam/(N-1)\n",
        "\n",
        "\n",
        "vektorA = [14.2, 16.4, 11.9, 15.2, 18.5, 22.1, 19.4, 25.1, 23.4, 18.1, 22.6, 17.2]\n",
        "vektorB = [215, 325, 185, 332, 406, 522, 412, 614, 544, 421, 445, 408]\n",
        "\n",
        "sonuc_sapmaA = standartSapma(vektorA)\n",
        "sonuc_sapmaB = standartSapma(vektorB)\n",
        "sonuc_kov = kovaryans(vektorA, vektorB)\n",
        "\n",
        "print(vektorA, vektorB, sep=\"\\n\")\n",
        "print(\"\\nİlk vektör için standart sapma: \", round(sonuc_sapmaA, 2))\n",
        "print(\"İkinci vektör için standart sapma: \", round(sonuc_sapmaB, 2))\n",
        "print(\"Kovaryans ilişkisi: \", round(sonuc_kov, 2))"
      ],
      "execution_count": null,
      "outputs": [
        {
          "output_type": "stream",
          "text": [
            "[14.2, 16.4, 11.9, 15.2, 18.5, 22.1, 19.4, 25.1, 23.4, 18.1, 22.6, 17.2]\n",
            "[215, 325, 185, 332, 406, 522, 412, 614, 544, 421, 445, 408]\n",
            "\n",
            "İlk vektör için standart sapma:  4.01\n",
            "İkinci vektör için standart sapma:  126.04\n",
            "Kovaryans ilişkisi:  484.09\n"
          ],
          "name": "stdout"
        }
      ]
    },
    {
      "cell_type": "markdown",
      "metadata": {
        "id": "wZAua4EZ85Nl"
      },
      "source": [
        "<h3>Numpy Kütüphanesinde Kovaryans ve Standart Sapma</h3>"
      ]
    },
    {
      "cell_type": "code",
      "metadata": {
        "colab": {
          "base_uri": "https://localhost:8080/"
        },
        "id": "4x_5pMiC6BX_",
        "outputId": "b9ec10b0-55d8-4240-800a-49a6842e0d12"
      },
      "source": [
        "import numpy as np\n",
        "\n",
        "vektorA = [14.2, 16.4, 11.9, 15.2, 18.5, 22.1, 19.4, 25.1, 23.4, 18.1, 22.6, 17.2]\n",
        "vektorB = [215, 325, 185, 332, 406, 522, 412, 614, 544, 421, 445, 408]\n",
        "\n",
        "sonuc_sapmaA = np.std(vektorA)\n",
        "sonuc_sapmaB = np.std(vektorB)\n",
        "sonuc_kov = np.cov(vektorA, vektorB)[0][1]\n",
        "\n",
        "print(vektorA, vektorB, sep=\"\\n\")\n",
        "print(\"\\nİlk vektör için standart sapma: \", round(sonuc_sapmaA, 2))\n",
        "print(\"İkinci vektör için standart sapma: \", round(sonuc_sapmaB, 2))\n",
        "print(\"Kovaryans ilişkisi: \", round(sonuc_kov, 2))"
      ],
      "execution_count": null,
      "outputs": [
        {
          "output_type": "stream",
          "text": [
            "[14.2, 16.4, 11.9, 15.2, 18.5, 22.1, 19.4, 25.1, 23.4, 18.1, 22.6, 17.2]\n",
            "[215, 325, 185, 332, 406, 522, 412, 614, 544, 421, 445, 408]\n",
            "\n",
            "İlk vektör için standart sapma:  3.84\n",
            "İkinci vektör için standart sapma:  120.68\n",
            "Kovaryans ilişkisi:  484.09\n"
          ],
          "name": "stdout"
        }
      ]
    },
    {
      "cell_type": "markdown",
      "metadata": {
        "id": "A4JSlWFN9x8o"
      },
      "source": [
        "<h3>Kolerasyon Fonksiyonun Gerçeklenmesi</h3>"
      ]
    },
    {
      "cell_type": "code",
      "metadata": {
        "colab": {
          "base_uri": "https://localhost:8080/"
        },
        "id": "X2SYZQsd_j_s",
        "outputId": "7fe0c42d-f6d5-4889-cfbb-d7b1431a8b75"
      },
      "source": [
        "def kolerasyon(vektor1, vektor2):\n",
        "    \"\"\"\n",
        "    Bu fonksiyon verilen iki int/float listenin kolerasyon katsayısını hesaplar.\n",
        "    Bir float değişkeni döndürür.\n",
        "    \"\"\"\n",
        "\n",
        "    if len(vektor1) != len(vektor2):\n",
        "        raise ValueError(\"Vektör uzunlukları eşit olmalı\")\n",
        "\n",
        "    N = len(vektor1)\n",
        "    toplam_carpimlar = 0\n",
        "    toplam_vektor1 = 0\n",
        "    toplam_vektor2 = 0\n",
        "    toplam_vektor1_kareleri = 0\n",
        "    toplam_vektor2_kareleri = 0\n",
        "\n",
        "    for i in range(N):\n",
        "        x = vektor1[i]\n",
        "        y = vektor2[i]\n",
        "        toplam_carpimlar += x*y\n",
        "        toplam_vektor1 += x\n",
        "        toplam_vektor2 += y\n",
        "        toplam_vektor1_kareleri += x**2\n",
        "        toplam_vektor2_kareleri += y**2\n",
        "\n",
        "    sonuc = (N*toplam_carpimlar - toplam_vektor1*toplam_vektor2)/((N*toplam_vektor1_kareleri-toplam_vektor1**2)*(N*toplam_vektor2_kareleri-toplam_vektor2**2))**0.5\n",
        "    return sonuc\n",
        "\n",
        "vektorA = [14.2, 16.4, 11.9, 15.2, 18.5, 22.1, 19.4, 25.1, 23.4, 18.1, 22.6, 17.2]\n",
        "vektorB = [215, 325, 185, 332, 406, 522, 412, 614, 544, 421, 445, 408]\n",
        "\n",
        "kolerasyon_katsayisi = kolerasyon(vektorA, vektorB)\n",
        "\n",
        "print(\"{vektor1}\\n{vektor2}\\n\\nvektorleri arasındaki kolerasyon katsayısı: {katsayi}\".format(\n",
        "    vektor1 = vektorA,\n",
        "    vektor2 = vektorB,\n",
        "    katsayi = round(kolerasyon_katsayisi, 2)\n",
        "))"
      ],
      "execution_count": null,
      "outputs": [
        {
          "output_type": "stream",
          "text": [
            "[14.2, 16.4, 11.9, 15.2, 18.5, 22.1, 19.4, 25.1, 23.4, 18.1, 22.6, 17.2]\n",
            "[215, 325, 185, 332, 406, 522, 412, 614, 544, 421, 445, 408]\n",
            "\n",
            "vektorleri arasındaki kolerasyon katsayısı: 0.96\n"
          ],
          "name": "stdout"
        }
      ]
    },
    {
      "cell_type": "markdown",
      "metadata": {
        "id": "wAIFn-GpFFaL"
      },
      "source": [
        "<h3>Kolerasyon Fonksiyonun Kovaryans ve Standart Sapma ile Gerçeklenmesi</h3>"
      ]
    },
    {
      "cell_type": "code",
      "metadata": {
        "colab": {
          "base_uri": "https://localhost:8080/"
        },
        "id": "IOjSZbNRDdGD",
        "outputId": "6f4fa71a-d9c7-4842-dc0c-31af267dd862"
      },
      "source": [
        "def ortalama(vektor):\n",
        "    \"\"\"\n",
        "    Bu fonksiyon verilen bir int/float listenin ortlamasını hesaplar.\n",
        "    Bir float değişkeni döndürür.\n",
        "    \"\"\"\n",
        "    toplam = 0\n",
        "    for var in vektor:\n",
        "        toplam += var\n",
        "    return toplam/len(vektor);\n",
        "    \n",
        "def standartSapma(vektor):\n",
        "    \"\"\"\n",
        "    Bu fonksiyon verilen bir int/float listenin standart sapmasını hesaplar.\n",
        "    Bir float değişkeni döndürür.\n",
        "    \"\"\"\n",
        "    N = len(vektor)\n",
        "    toplam = 0\n",
        "    ort = ortalama(vektor)\n",
        "    for var in vektor:\n",
        "        toplam += (var-ort)**2\n",
        "    return (toplam/(N-1))**0.5\n",
        "\n",
        "def kovaryans(vektor1, vektor2):\n",
        "    \"\"\"\n",
        "    Bu fonksiyon verilen iki int/float listenin kovaryansını hesaplar.\n",
        "    Bir float değişkeni döndürür.\n",
        "    \"\"\"\n",
        "\n",
        "    if len(vektor1) != len(vektor2):\n",
        "        raise ValueError(\"Vektör uzunlukları eşit olmalı\")\n",
        "\n",
        "    N = len(vektor1)\n",
        "    vektor1_ort = ortalama(vektor1)\n",
        "    vektor2_ort = ortalama(vektor2)\n",
        "    toplam = 0\n",
        "    for i in range(N):\n",
        "        temp1 = vektor1[i] - vektor1_ort\n",
        "        temp2 = vektor2[i] - vektor2_ort\n",
        "        toplam += temp1*temp2\n",
        "    return toplam/(N-1)\n",
        "\n",
        "def kolerasyon(vektor1, vektor2):\n",
        "    \"\"\"\n",
        "    Bu fonksiyon verilen iki int/float listenin kolerasyon katsayısını hesaplar.\n",
        "    Bir float değişkeni döndürür.\n",
        "    \"\"\"\n",
        "    return kovaryans(vektor1, vektor2)/(standartSapma(vektor1)*standartSapma(vektor2))\n",
        "\n",
        "vektorA = [14.2, 16.4, 11.9, 15.2, 18.5, 22.1, 19.4, 25.1, 23.4, 18.1, 22.6, 17.2]\n",
        "vektorB = [215, 325, 185, 332, 406, 522, 412, 614, 544, 421, 445, 408]\n",
        "\n",
        "kolerasyon_katsayisi = kolerasyon(vektorA, vektorB)\n",
        "\n",
        "print(\"{vektor1} \\n{vektor2}\\n\\nvektorleri arasındaki kolerasyon katsayısı: {katsayi}\".format(\n",
        "    vektor1 = vektorA,\n",
        "    vektor2 = vektorB,\n",
        "    katsayi = round(kolerasyon_katsayisi, 2)\n",
        "))"
      ],
      "execution_count": null,
      "outputs": [
        {
          "output_type": "stream",
          "text": [
            "[14.2, 16.4, 11.9, 15.2, 18.5, 22.1, 19.4, 25.1, 23.4, 18.1, 22.6, 17.2] \n",
            "[215, 325, 185, 332, 406, 522, 412, 614, 544, 421, 445, 408]\n",
            "\n",
            "vektorleri arasındaki kolerasyon katsayısı: 0.96\n"
          ],
          "name": "stdout"
        }
      ]
    },
    {
      "cell_type": "markdown",
      "metadata": {
        "id": "8gQHJp5dSVx_"
      },
      "source": [
        "<h3>Numpy Kütüphanesinde Kolaresayon Katsayısı</h3>"
      ]
    },
    {
      "cell_type": "code",
      "metadata": {
        "colab": {
          "base_uri": "https://localhost:8080/"
        },
        "id": "_QCy2AIHSWHX",
        "outputId": "ff39f139-4537-4851-86ab-d41a3d20f43e"
      },
      "source": [
        "import numpy as np\n",
        "\n",
        "vektorA = [14.2, 16.4, 11.9, 15.2, 18.5, 22.1, 19.4, 25.1, 23.4, 18.1, 22.6, 17.2]\n",
        "vektorB = [215, 325, 185, 332, 406, 522, 412, 614, 544, 421, 445, 408]\n",
        "\n",
        "kolerasyon_katsayisi = np.corrcoef(vektorA, vektorB)[0][1]\n",
        "\n",
        "print(\"{vektor1} \\n{vektor2}\\n\\nvektorleri arasındaki kolerasyon katsayısı: {katsayi}\".format(\n",
        "    vektor1 = vektorA,\n",
        "    vektor2 = vektorB,\n",
        "    katsayi = round(kolerasyon_katsayisi, 2)\n",
        "))"
      ],
      "execution_count": null,
      "outputs": [
        {
          "output_type": "stream",
          "text": [
            "[14.2, 16.4, 11.9, 15.2, 18.5, 22.1, 19.4, 25.1, 23.4, 18.1, 22.6, 17.2] \n",
            "[215, 325, 185, 332, 406, 522, 412, 614, 544, 421, 445, 408]\n",
            "\n",
            "vektorleri arasındaki kolerasyon katsayısı: 0.96\n"
          ],
          "name": "stdout"
        }
      ]
    },
    {
      "cell_type": "markdown",
      "metadata": {
        "id": "Ec-9lGQASMpv"
      },
      "source": [
        "<h3>Scipy Kütüphanesinde Kolerasyon Katsayısı</h3><hr></br>\n",
        "<p><small><i>Scipy</i> kütüphanesindeki <b><i>pearsonr</i></b> fonksiyonu biz bir tuple döndürür. Döndürülen tuple objesinin ilk elemanı <b>Pearson korelasyon katsayısı</b>, ikinci elemanı ise <b>Korelasyon katsayısının olası hatası</b> değeridir.</small></p>"
      ]
    },
    {
      "cell_type": "code",
      "metadata": {
        "colab": {
          "base_uri": "https://localhost:8080/"
        },
        "id": "kiegygsPR1W5",
        "outputId": "2af3b3ab-b609-40f3-8823-d5227166f933"
      },
      "source": [
        "from scipy import stats\n",
        "\n",
        "vektorA = [14.2, 16.4, 11.9, 15.2, 18.5, 22.1, 19.4, 25.1, 23.4, 18.1, 22.6, 17.2]\n",
        "vektorB = [215, 325, 185, 332, 406, 522, 412, 614, 544, 421, 445, 408]\n",
        "\n",
        "kolerasyon_katsayisi = stats.pearsonr(vektorA, vektorB)[0]\n",
        "\n",
        "print(\"{vektor1} \\n{vektor2}\\n\\nvektorleri arasındaki kolerasyon katsayısı: {katsayi}\".format(\n",
        "    vektor1 = vektorA,\n",
        "    vektor2 = vektorB,\n",
        "    katsayi = round(kolerasyon_katsayisi, 2)\n",
        "))"
      ],
      "execution_count": null,
      "outputs": [
        {
          "output_type": "stream",
          "text": [
            "[14.2, 16.4, 11.9, 15.2, 18.5, 22.1, 19.4, 25.1, 23.4, 18.1, 22.6, 17.2] \n",
            "[215, 325, 185, 332, 406, 522, 412, 614, 544, 421, 445, 408]\n",
            "\n",
            "vektorleri arasındaki kolerasyon katsayısı: 0.96\n"
          ],
          "name": "stdout"
        }
      ]
    },
    {
      "cell_type": "markdown",
      "metadata": {
        "id": "_1lQ8DpktEJ8"
      },
      "source": [
        "<h3>Korelasyonu Görsel Olarak Değerlendirme</h3>"
      ]
    },
    {
      "cell_type": "code",
      "metadata": {
        "colab": {
          "base_uri": "https://localhost:8080/",
          "height": 295
        },
        "id": "OoawCmVVi9n6",
        "outputId": "18bf8613-b6f1-4629-fb97-ad84f76d381a"
      },
      "source": [
        "import matplotlib.pyplot as plt\n",
        "\n",
        "vektorA = [14.2, 16.4, 11.9, 15.2, 18.5, 22.1, 19.4, 25.1, 23.4, 18.1, 22.6, 17.2]\n",
        "vektorB = [215, 325, 185, 332, 406, 522, 412, 614, 544, 421, 445, 408]\n",
        "\n",
        "plt.scatter(vektorA, vektorB)\n",
        "plt.title(\"Gelir-Sıcaklık Korelasyon Grafiği\")\n",
        "plt.xlabel(\"Sıcaklık (C°)\")\n",
        "plt.ylabel(\"Gelir (TL)\")\n",
        "plt.show()"
      ],
      "execution_count": null,
      "outputs": [
        {
          "output_type": "display_data",
          "data": {
            "image/png": "[encoded data removed]",
            "text/plain": [
              "<Figure size 432x288 with 1 Axes>"
            ]
          },
          "metadata": {
            "tags": [],
            "needs_background": "light"
          }
        }
      ]
    },
    {
      "cell_type": "markdown",
      "metadata": {
        "id": "vfZqeI1OtPLj"
      },
      "source": [
        "<p>İki vektör arasındaki korelasyon katsayısı sıfır olduğu halde aralarında bir bağıntı bulanabilir. Bu durum aşağıda f(x)=x^2 fonksiyonu ile örneklenmiştir.</p>"
      ]
    },
    {
      "cell_type": "code",
      "metadata": {
        "colab": {
          "base_uri": "https://localhost:8080/",
          "height": 392
        },
        "id": "PAt2inOmkVaJ",
        "outputId": "b6781d8e-67c7-4ad6-88b5-1f8e929286c8"
      },
      "source": [
        "import numpy as np\n",
        "import matplotlib.pyplot as plt\n",
        "\n",
        "vektorA = np.array([-5, -4, -3, -2, -1, 0, 1, 2, 3, 4, 5])\n",
        "vektorB = vektorA**2\n",
        "\n",
        "kolerasyon_katsayisi = np.corrcoef(vektorA, vektorB)[0][1]\n",
        "\n",
        "print(\"{vektor1} \\n{vektor2}\\n\\nvektorleri arasındaki kolerasyon katsayısı: {katsayi}\\n\\n\".format(\n",
        "    vektor1 = vektorA,\n",
        "    vektor2 = vektorB,\n",
        "    katsayi = round(kolerasyon_katsayisi, 2)\n",
        "))\n",
        "print(\"=\"*50)\n",
        "plt.scatter(vektorA, vektorB)\n",
        "plt.show()"
      ],
      "execution_count": null,
      "outputs": [
        {
          "output_type": "stream",
          "text": [
            "[-5 -4 -3 -2 -1  0  1  2  3  4  5] \n",
            "[25 16  9  4  1  0  1  4  9 16 25]\n",
            "\n",
            "vektorleri arasındaki kolerasyon katsayısı: 0.0\n",
            "\n",
            "\n",
            "==================================================\n"
          ],
          "name": "stdout"
        },
        {
          "output_type": "display_data",
          "data": {
            "image/png": "[encoded data removed]",
            "text/plain": [
              "<Figure size 432x288 with 1 Axes>"
            ]
          },
          "metadata": {
            "tags": [],
            "needs_background": "light"
          }
        }
      ]
    },
    {
      "cell_type": "markdown",
      "metadata": {
        "id": "qgSN4YlBCYTf"
      },
      "source": [
        "# Manhattan Distance"
      ]
    },
    {
      "cell_type": "markdown",
      "metadata": {
        "id": "90JrwKSnXXqj"
      },
      "source": [
        "<p>Manhattan distance, city-block distance, taxicab distance, kare uzaklık, şehir mesafe uzaklığı, manhattan mesafesi ve taksi uzaklığı şeklinde farklı isimlerle ifade edilen bir uzaklık ölçütüdür. Bu uzaklık, gözlemler arasındaki mutlak uzaklıkların toplamı alınarak hesaplanır. Söz konusu uzaklık şu şekilde ifade edilir.</p></br>\n",
        "<p>\n",
        "$$d(x,y) =\\sum _{i=1}^{n} |x_{i}-y_{i}|  $$\n",
        "<center><small>Manhattan Uzaklık Eşitliği</small></center>\n",
        "</p><hr><br>\n",
        "<p> <center><img src=\"https://www.researchgate.net/profile/Adrian-Sanchez-Carmona/publication/284112564/figure/fig2/AS:717820182675463@1548153076962/Taxicab-geometry-distances-All-three-pictured-lines-have-the-same-length-for-the-route.png\"><br>Manhattan uzaklığınında, kırmızı, yeşil ve mavi yolların tümü 12 ile aynı en kısa yol uzunluğuna sahiptir.</p><br><hr><br>\n",
        "<p align=\"justify\">Manhattan mesafesi, yüksek boyutlu veriler için iyi çalışıyor gibi görünse de, özellikle yüksek boyutlu verilerde kullanıldığında, öklid mesafesinden biraz daha az sezgisel olan bir ölçüdür.<br>\n",
        "Ayrıca, mümkün olan en kısa yolu bulmadığı için öklid mesafesine göre daha kötü sonuçlar verebilir.</p>\n",
        "<hr>\n",
        "<p><img src=\"https://helpingwithmath.com/images/printables/worksheets/geometry/distance-2points08.gif\"><br><br>Yazdığımız kodlar ile (-3,2) ile (4,8) noktaları arasındaki Manhattan uzaklığını bulalım.</p>"
      ]
    },
    {
      "cell_type": "markdown",
      "metadata": {
        "id": "oV-J01iL3ybG"
      },
      "source": [
        "<h3>Fonksiyonun Gerçeklenmesi</h3>"
      ]
    },
    {
      "cell_type": "code",
      "metadata": {
        "colab": {
          "base_uri": "https://localhost:8080/"
        },
        "id": "b7LzvdoM4SSY",
        "outputId": "9189dc7e-b3fd-4253-b81a-8bd16be35258"
      },
      "source": [
        "def manhattanUzaklığı(vektor1, vektor2):\n",
        "    \"\"\"\n",
        "    Bu fonksiyon verilen iki int/float listenin manhattan mesafesini hesaplar.\n",
        "    Bir float değişkeni döndürür.\n",
        "    \"\"\"\n",
        "    if len(vektor1) != len(vektor2):\n",
        "        raise ValueError(\"Vektör uzunlukları eşit olmalı\")\n",
        "\n",
        "    toplam = 0\n",
        "    for i in range(len(vektor1)):\n",
        "        toplam += abs(vektor1[i]-vektor2[i])\n",
        "    return toplam\n",
        "\n",
        "vektorA = [-3,2]\n",
        "vektorB = [4,8]\n",
        "\n",
        "uzaklik = manhattanUzaklığı(vektorA, vektorB)\n",
        "\n",
        "print(\"{} ile {} noktası arasındaki uzaklık: {}\".format(vektorA, vektorB,uzaklik))"
      ],
      "execution_count": null,
      "outputs": [
        {
          "output_type": "stream",
          "text": [
            "[-3, 2] ile [4, 8] noktası arasındaki uzaklık: 13\n"
          ],
          "name": "stdout"
        }
      ]
    },
    {
      "cell_type": "markdown",
      "metadata": {
        "id": "n4ucFEyf30eR"
      },
      "source": [
        "<h3>Sklearn Kütüphanesinde Mannhattan Uzaklığı</h3>"
      ]
    },
    {
      "cell_type": "code",
      "metadata": {
        "colab": {
          "base_uri": "https://localhost:8080/"
        },
        "id": "WBQ3uNAv30vi",
        "outputId": "80fad09d-2400-453d-da6f-db50fc9306c3"
      },
      "source": [
        "from sklearn.metrics.pairwise import manhattan_distances\n",
        "import numpy as np\n",
        "\n",
        "vektorA = np.array([-3,2]).reshape(1,-1)\n",
        "vektorB = np.array([4,8]).reshape(1,-1)\n",
        "\n",
        "uzaklik = manhattan_distances(vektorA, vektorB)\n",
        "\n",
        "print(\"{} ile {} noktası arasındaki uzaklık: {}\".format(vektorA, vektorB,uzaklik[0][0]))"
      ],
      "execution_count": null,
      "outputs": [
        {
          "output_type": "stream",
          "text": [
            "[[-3  2]] ile [[4 8]] noktası arasındaki uzaklık: 13.0\n"
          ],
          "name": "stdout"
        }
      ]
    },
    {
      "cell_type": "markdown",
      "metadata": {
        "id": "AGw0vjNt3zdZ"
      },
      "source": [
        "<h3>Scipy Kütüphanesinde Manhattan Uzaklığı</h3>"
      ]
    },
    {
      "cell_type": "code",
      "metadata": {
        "colab": {
          "base_uri": "https://localhost:8080/"
        },
        "id": "oqKQD4kK30LV",
        "outputId": "2f542574-3988-4812-85b0-8dd2e867c9de"
      },
      "source": [
        "from scipy.spatial.distance import cityblock\n",
        "\n",
        "vektorA = [-3,2]\n",
        "vektorB = [4,8]\n",
        "\n",
        "uzaklik = cityblock(vektorA, vektorB)\n",
        "\n",
        "print(\"{} ile {} noktası arasındaki uzaklık: {}\".format(vektorA, vektorB,uzaklik))"
      ],
      "execution_count": null,
      "outputs": [
        {
          "output_type": "stream",
          "text": [
            "[-3, 2] ile [4, 8] noktası arasındaki uzaklık: 13\n"
          ],
          "name": "stdout"
        }
      ]
    },
    {
      "cell_type": "markdown",
      "metadata": {
        "id": "pBO5JDUBCbkv"
      },
      "source": [
        "# Minkowski"
      ]
    },
    {
      "cell_type": "markdown",
      "metadata": {
        "id": "AYyWIVK_XYGK"
      },
      "source": [
        "<p>Öklid uzaklığının genelleştirilmiş halidir.</p>\n",
        "<hr>\n",
        "<p>P sayıda değişken göz önüne alınarak gözlem değerleri arasındaki uzaklığın hesaplanması söz konusu ise Minkowski uzaklık bağıntısı kullanılabilir.</p><hr><br>\n",
        "<p><center><img alt=\"Minkowsky\" class=\"nr\" src=\"https://miro.medium.com/proxy/1*0zrH-g9jdsHDSf1HJVp_0w.png\"></center></p><br><br>\n",
        "<p>\n",
        "<ul>\n",
        "<li>p=1 için Manhattan Mesafesi</li>\n",
        "<li>p=2 için Öklid Mesafesi</li>\n",
        "<li>p= $\\infty$ için Sonsuz Norm - Chebyshev Mesafesi</li>\n",
        "</ul>\n",
        "</p>"
      ]
    },
    {
      "cell_type": "markdown",
      "metadata": {
        "id": "ssYc899h4Aq6"
      },
      "source": [
        "<h3>Fonksiyonun Gerçeklenmesi</h3>"
      ]
    },
    {
      "cell_type": "code",
      "metadata": {
        "id": "d9pb_AGHXYc_",
        "colab": {
          "base_uri": "https://localhost:8080/"
        },
        "outputId": "4bb034f9-1184-49dd-d1ca-0f0043bedef6"
      },
      "source": [
        "def minkoswski(vektor1, vektor2, derece=1):\n",
        "    \"\"\"\n",
        "    Bu fonksiyon verilen iki int/float listenin minkoswski mesafesini hesaplar.\n",
        "    Bir float değişkeni döndürür.\n",
        "    \"\"\"\n",
        "    if len(vektor1) != len(vektor2):\n",
        "        raise ValueError(\"Vektör uzunlukları eşit olmalı\")\n",
        "\n",
        "    toplam = 0;\n",
        "    for i in range(len(vektor1)):\n",
        "        toplam += (abs(vektor1[i] - vektor2[i]))**derece\n",
        "    return toplam**(1/derece)\n",
        "\n",
        "koordinatA = [3,2]\n",
        "koordinatB = [6,6]\n",
        "\n",
        "mesafep1 = minkoswski(koordinatA, koordinatB)\n",
        "mesafep2 = minkoswski(koordinatA, koordinatB, derece=2)\n",
        "\n",
        "print(\"\"\"{koor1} ve {koor2} koordinatalrında\n",
        "p=1 için Mİnkoswski mesafesi: {p1}\n",
        "p=2 için Mİnkoswski mesafesi: {p2}\n",
        "\"\"\".format(koor1=koordinatA,\n",
        "           koor2 = koordinatB,\n",
        "           p1 = round(mesafep1,2),\n",
        "           p2 = round(mesafep2,2)))"
      ],
      "execution_count": null,
      "outputs": [
        {
          "output_type": "stream",
          "text": [
            "[3, 2] ve [6, 6] koordinatalrında\n",
            "p=1 için Mİnkoswski mesafesi: 7.0\n",
            "p=2 için Mİnkoswski mesafesi: 5.0\n",
            "\n"
          ],
          "name": "stdout"
        }
      ]
    },
    {
      "cell_type": "markdown",
      "metadata": {
        "id": "HufxDsw01Pif"
      },
      "source": [
        "<h3>Scipy Kütüphanesinde Minkowski Mesafesi</h3>"
      ]
    },
    {
      "cell_type": "code",
      "metadata": {
        "colab": {
          "base_uri": "https://localhost:8080/"
        },
        "id": "QupxCcuQyzeM",
        "outputId": "dd40eb2a-0133-4627-c590-54343d21a452"
      },
      "source": [
        "from scipy.spatial import distance\n",
        "\n",
        "koordinatA = [3,2]\n",
        "koordinatB = [6,6]\n",
        "\n",
        "mesafep1 = distance.minkowski(koordinatA, koordinatB, 1)\n",
        "mesafep2 = distance.minkowski(koordinatA, koordinatB, 2)\n",
        "\n",
        "print(\"\"\"{koor1} ve {koor2} koordinatalrında\n",
        "p=1 için Mİnkoswski mesafesi: {p1}\n",
        "p=2 için Mİnkoswski mesafesi: {p2}\n",
        "\"\"\".format(koor1=koordinatA,\n",
        "           koor2 = koordinatB,\n",
        "           p1 = round(mesafep1,2),\n",
        "           p2 = round(mesafep2,2)))\n"
      ],
      "execution_count": null,
      "outputs": [
        {
          "output_type": "stream",
          "text": [
            "[3, 2] ve [6, 6] koordinatalrında\n",
            "p=1 için Mİnkoswski mesafesi: 7.0\n",
            "p=2 için Mİnkoswski mesafesi: 5.0\n",
            "\n"
          ],
          "name": "stdout"
        }
      ]
    },
    {
      "cell_type": "markdown",
      "metadata": {
        "id": "9q08B9UFCfPE"
      },
      "source": [
        "# Hamming Distance"
      ]
    },
    {
      "cell_type": "markdown",
      "metadata": {
        "id": "RNoAs7wRXeu_"
      },
      "source": [
        "<p align=\"justify\">Hamming mesafesi, iki vektör arasında farklı olan değerlerin sayısıdır. Genellikle eşit uzunluktaki iki ikili dizeyi karşılaştırmak için kullanılır. Birbirinden farklı olan karakter sayısını hesaplayarak dizelerin birbirlerine ne kadar benzer olduklarını karşılaştırmak için de kullanılabilir.</p><hr><br>\n",
        "<p><center><a href=\"https://towardsdatascience.com/3-text-distances-that-every-data-scientist-should-know-7fcdf850e510\"><img src=\"https://miro.medium.com/max/643/1*Q4rdY5KN91aZjvGXl7SRug.png\"></a><br><small>Hamming Mesafesinin Görselleştirilmesi</small></center></p><hr><br>\n",
        "\n",
        "<p>Genel olarak, bilgisayar ağları üzerinden iletilen verilerde hata düzeltme/algılama için kullanılır. İkili bir sözcükteki bozulmuş bitlerin sayısı belirlenerek hata bulunmaya çalışılır.<br>\n",
        "Ayrıca, kategorik değişkenler arasındaki mesafeyi ölçmek için de Hamming mesafesi kullanılabilir.\n",
        "</p>"
      ]
    },
    {
      "cell_type": "markdown",
      "metadata": {
        "id": "VaaGEdvC4jy6"
      },
      "source": [
        "<h3>Fonksiyonun Gerçeklenmesi</h3>"
      ]
    },
    {
      "cell_type": "code",
      "metadata": {
        "id": "nzkR2VHFK9W0",
        "colab": {
          "base_uri": "https://localhost:8080/"
        },
        "outputId": "2dc9c5a4-de8c-47a6-8a51-a3c061c1ba3b"
      },
      "source": [
        "def hamming(vektor1, vektor2):\n",
        "    \"\"\"\n",
        "    Bu fonksiyon verilen iki int/float/karakter dizisinin hamming mesafesini hesaplar.\n",
        "    Bir int değişkeni döndürür.\n",
        "    \"\"\"\n",
        "    if len(vektor1) != len(vektor2):\n",
        "        raise ValueError(\"Vektör uzunlukları eşit olmalı\")\n",
        "\n",
        "    toplam = 0\n",
        "    for i in range(len(vektor1)):\n",
        "        if vektor1[i] != vektor2[i]:\n",
        "            toplam += 1;\n",
        "    return toplam\n",
        "\n",
        "vektorA = \"010001110\"\n",
        "vektorB = \"010001111\"\n",
        "\n",
        "sonuc = hamming(vektorA, vektorB)\n",
        "\n",
        "print(\"{} \\n{} \\nvektörleri arasındaki fark: {}\".format(\n",
        "    vektorA,\n",
        "    vektorB,\n",
        "    sonuc\n",
        "))\n"
      ],
      "execution_count": null,
      "outputs": [
        {
          "output_type": "stream",
          "text": [
            "010001110 \n",
            "010001111 \n",
            "vektörleri arasındaki fark: 1\n"
          ],
          "name": "stdout"
        }
      ]
    },
    {
      "cell_type": "markdown",
      "metadata": {
        "id": "PI4BVVBu5xoy"
      },
      "source": [
        "<h3>Scipy Kütüphanesinde Hamming Mesafesi</h3>"
      ]
    },
    {
      "cell_type": "code",
      "metadata": {
        "colab": {
          "base_uri": "https://localhost:8080/"
        },
        "id": "2zU453Ne4i0i",
        "outputId": "3e154dda-3e37-4440-cb2d-78fbdbbbd28d"
      },
      "source": [
        "from scipy.spatial import distance\n",
        "\n",
        "vektorA = [0,1,1,1,0]\n",
        "vektorB = [0,1,0,0,0]\n",
        "\n",
        "sonuc = distance.hamming(vektorA, vektorB)\n",
        "\n",
        "print(\"{} \\n{} \\nvektörleri arasındaki fark: {}\".format(\n",
        "    vektorA,\n",
        "    vektorB,\n",
        "    sonuc\n",
        "))"
      ],
      "execution_count": null,
      "outputs": [
        {
          "output_type": "stream",
          "text": [
            "[0, 1, 1, 1, 0] \n",
            "[0, 1, 0, 0, 0] \n",
            "vektörleri arasındaki fark: 0.4\n"
          ],
          "name": "stdout"
        }
      ]
    },
    {
      "cell_type": "markdown",
      "metadata": {
        "id": "YFYMjWxRCjpd"
      },
      "source": [
        "# Kaynaklar"
      ]
    },
    {
      "cell_type": "markdown",
      "metadata": {
        "id": "FDURy2bPK9uz"
      },
      "source": [
        "<ul>\n",
        "<small>\n",
        "<li><a href=\"https://www.datasciencearth.com/veri-madenciligi-ve-oklid-uzakligi/\">Data Science Earth - Öklid Uzaklığı</a></li>\n",
        "<li><a href=\"https://www.ahmetcevahircinar.com.tr/2017/04/17/oklit-uzakligi-nasil-hesaplanir/\">Ahmet Cevahir Çınar - Öklit Uzaklığı Nasıl Hesaplanır?</a></li>\n",
        "<li><a href=\"https://towardsdatascience.com/k-nearest-neighbors-knn-explained-cbc31849a7e3\">Towards Data Science - Öklid Bağıntısı</a></li>\n",
        "<li><a href=\"https://scikit-learn.org/stable/modules/classes.html#module-sklearn.metrics.pairwise\">scikit-learn - Metrics Documentation</a></li>\n",
        "<li><a href=\"https://bahadirakcora.wordpress.com/tag/cosine-similarity/\">Bahadır Akçora - Cosine Similarity</a></li>\n",
        "<li><a href=\"https://en.wikipedia.org/wiki/Cosine_similarity\">Wikipedia - Cosine Similarity</a></li>\n",
        "<li><a href=\"https://en.wikipedia.org/wiki/Euclidean_vector\">Wikipedia - Euclidean vector</a></li>\n",
        "<li><a href=\"https://neo4j.com/docs/graph-algorithms/current/labs-algorithms/cosine/\">Neo4j - The Cosine Similarity Algorithm</a></li>\n",
        "<li><a href=\"https://www.sciencedirect.com/topics/computer-science/cosine-similarity#:~:text=Cosine%20similarity%20measures%20the%20similarity,document%20similarity%20in%20text%20analysis.\">ScienceDirect - Cosine Similarity</a></li>\n",
        "<li><a href=\"https://tr.wikipedia.org/wiki/Korelasyon\">Wikipedia - Korelasyon</a></li>\n",
        "<li><a href=\"https://statistics.laerd.com/statistical-guides/pearson-correlation-coefficient-statistical-guide.php\">Laerd Statistics - Pearson Product-Moment Correlation</a></li>\n",
        "<li><a href=\"https://www.mathsisfun.com/data/correlation.html\">Math Is Fun - Correlation</a></li>\n",
        "<li><a href=\"http://bilgisayarkavramlari.com/2007/11/24/kare-uzaklik-sehir-mesafe-uzakligi-taksi-uzakligi-city-block-distance-taxicab-distance/\">Bilgisayar Kavramları - Kare Uzaklık</a></li>\n",
        "<li><a href=\"https://towardsdatascience.com/9-distance-measures-in-data-science-918109d069fa\">Towards Data Science - 9 Distance Measures in Data Science</a></li>\n",
        "<li><a href=\"https://www.geeksforgeeks.org/measures-of-distance-in-data-mining/\">Geeks for Geeks - Measures of Distance in Data Mining</a></li>\n",
        "<li><a href=\"https://machinelearningmastery.com/distance-measures-for-machine-learning/\">Machine Learning Mastery - 4 Distance Measures for Machine Learning</a></li>\n",
        "<li><a href=\"https://docs.scipy.org/doc/scipy/reference/spatial.distance.html\">SciPy - Distance computations</a></li>\n",
        "</ul>"
      ]
    }
  ]
}